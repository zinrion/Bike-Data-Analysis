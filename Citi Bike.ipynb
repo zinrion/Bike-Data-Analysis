{
 "cells": [
  {
   "cell_type": "markdown",
   "metadata": {},
   "source": [
    "# Thinkful Data Science Bootcamp Unit One Capstone\n",
    "\n",
    "#### Roy Shabaya"
   ]
  },
  {
   "cell_type": "markdown",
   "metadata": {},
   "source": [
    "Citi Bike is a bicycle sharing system in New York City allowing riders to rent bikes for short periods since 2013.  Using a system of 706 stations and 10,000 bikes, riders are able to rent a bike for 30 or 45 minutes.  Riders may purchase either a one day or three day pass, a User Type which Citi Bike classifies as a Customer.  Riders may also purchase an annual pass, which Citi Bike classifies as a Subscriber.  Citi Bike believes the annual pass is the best value for frequent riders.  An annual pass not only provides a lower overall cost, but also comes with an extended rental period of 45 minutes, versus 30 minutes for Customers.  Seeing that value, over the last two years 88.8% of Citi Bike customers were Subscribers.  "
   ]
  },
  {
   "cell_type": "code",
   "execution_count": 76,
   "metadata": {},
   "outputs": [
    {
     "data": {
      "text/plain": [
       "<function matplotlib.pyplot.show>"
      ]
     },
     "execution_count": 76,
     "metadata": {},
     "output_type": "execute_result"
    },
    {
     "data": {
      "image/png": "[encoded data removed]",
      "text/plain": [
       "<matplotlib.figure.Figure at 0x1812bae6f28>"
      ]
     },
     "metadata": {},
     "output_type": "display_data"
    }
   ],
   "source": [
    "#Create User Type Mix Pie Chart\n",
    "subscriber = ((user_pivot.Subscriber.sum())/(user_pivot.Customer.sum() + user_pivot.Subscriber.sum()))\n",
    "customer = 1 - subscriber\n",
    "pie_data = [subscriber,customer]\n",
    "fig, ax = plt.subplots(figsize=(8,5))\n",
    "plt.pie(pie_data, autopct=\"%0.01f%%\")\n",
    "plt.title(\"Subscriber vs Customer Mix\")\n",
    "pie_legend = [\"Subscribers\",\"Customers\"]\n",
    "plt.legend(pie_legend)\n",
    "plt.axis(\"equal\")\n",
    "plt.show"
   ]
  },
  {
   "cell_type": "markdown",
   "metadata": {},
   "source": [
    "### Problem\n",
    "\n",
    "At several medium and high volume stations the percentage of riders that are a Subscriber are below 75%. For this analysis stations are classified as small if they have less than 2,500 trips per month, 2,500 - 4,000 trips will be classified as medium volume, and high volume will be greater than 4,000 trips. There is opportunity to target medium and high volume stations with Subscriber percentages below 75%, with strategies to convert Customers to Subscribers.  Subscribers are desirable to Citi Bike as the annual payment required represents guaranteed and steady revenue for Citi Bike.  Whereas Customers may use the service sporadically, as well as be tempted to use other services.  Therefore it is ideal for Citi Bike to increase the percentage of riders who are Subscribers."
   ]
  },
  {
   "cell_type": "code",
   "execution_count": 74,
   "metadata": {
    "scrolled": false
   },
   "outputs": [
    {
     "data": {
      "image/png": "[encoded data removed]",
      "text/plain": [
       "<matplotlib.figure.Figure at 0x1812c5540b8>"
      ]
     },
     "metadata": {},
     "output_type": "display_data"
    }
   ],
   "source": [
    "#Create Box Plot\n",
    "box = user_pivot[\"Percent Subscriber\"]\n",
    "fig, ax = plt.subplots(figsize=(14,5))\n",
    "sns.boxplot(box)\n",
    "plt.title(\"Subscriber Percent by Station\")\n",
    "plt.show()"
   ]
  },
  {
   "cell_type": "markdown",
   "metadata": {},
   "source": [
    "As shown by the box plot above most stations have a Subscriber percent above 80%, and the median near 90%.  However the outliers  at the lower end highlight there are quite a few stations where there is oppurtunity for improvement.  "
   ]
  },
  {
   "cell_type": "markdown",
   "metadata": {},
   "source": [
    "#### Data\n",
    "\n",
    "<br>Data was obtained from Citi Bike NYC.  Data from October 2015 to September 2017 was used in this analysis.  Columns in the data source include start station name, start time, user type(Customer vs Subscriber), in addition to other fields.  29,095,751 rows of data were utilized for the analysis.\n",
    "\n",
    "Data Source : https://www.citibikenyc.com/system-data"
   ]
  },
  {
   "cell_type": "code",
   "execution_count": 27,
   "metadata": {},
   "outputs": [
    {
     "name": "stdout",
     "output_type": "stream",
     "text": [
      "Sample of the data:\n"
     ]
    },
    {
     "data": {
      "text/html": [
       "<div>\n",
       "<style>\n",
       "    .dataframe thead tr:only-child th {\n",
       "        text-align: right;\n",
       "    }\n",
       "\n",
       "    .dataframe thead th {\n",
       "        text-align: left;\n",
       "    }\n",
       "\n",
       "    .dataframe tbody tr th {\n",
       "        vertical-align: top;\n",
       "    }\n",
       "</style>\n",
       "<table border=\"1\" class=\"dataframe\">\n",
       "  <thead>\n",
       "    <tr style=\"text-align: right;\">\n",
       "      <th></th>\n",
       "      <th>tripduration</th>\n",
       "      <th>starttime</th>\n",
       "      <th>stoptime</th>\n",
       "      <th>start station id</th>\n",
       "      <th>start station name</th>\n",
       "      <th>start station latitude</th>\n",
       "      <th>start station longitude</th>\n",
       "      <th>end station id</th>\n",
       "      <th>end station name</th>\n",
       "      <th>end station latitude</th>\n",
       "      <th>end station longitude</th>\n",
       "      <th>bikeid</th>\n",
       "      <th>usertype</th>\n",
       "      <th>birth year</th>\n",
       "      <th>gender</th>\n",
       "      <th>date</th>\n",
       "    </tr>\n",
       "  </thead>\n",
       "  <tbody>\n",
       "    <tr>\n",
       "      <th>0</th>\n",
       "      <td>171</td>\n",
       "      <td>10/1/2015 00:00:02</td>\n",
       "      <td>10/1/2015 00:02:54</td>\n",
       "      <td>388</td>\n",
       "      <td>W 26 St &amp; 10 Ave</td>\n",
       "      <td>40.749718</td>\n",
       "      <td>-74.002950</td>\n",
       "      <td>494</td>\n",
       "      <td>W 26 St &amp; 8 Ave</td>\n",
       "      <td>40.747348</td>\n",
       "      <td>-73.997236</td>\n",
       "      <td>24302</td>\n",
       "      <td>Subscriber</td>\n",
       "      <td>1973.0</td>\n",
       "      <td>1</td>\n",
       "      <td>10/1/2015</td>\n",
       "    </tr>\n",
       "    <tr>\n",
       "      <th>1</th>\n",
       "      <td>593</td>\n",
       "      <td>10/1/2015 00:00:02</td>\n",
       "      <td>10/1/2015 00:09:55</td>\n",
       "      <td>518</td>\n",
       "      <td>E 39 St &amp; 2 Ave</td>\n",
       "      <td>40.747804</td>\n",
       "      <td>-73.973442</td>\n",
       "      <td>438</td>\n",
       "      <td>St Marks Pl &amp; 1 Ave</td>\n",
       "      <td>40.727791</td>\n",
       "      <td>-73.985649</td>\n",
       "      <td>19904</td>\n",
       "      <td>Subscriber</td>\n",
       "      <td>1990.0</td>\n",
       "      <td>1</td>\n",
       "      <td>10/1/2015</td>\n",
       "    </tr>\n",
       "    <tr>\n",
       "      <th>2</th>\n",
       "      <td>233</td>\n",
       "      <td>10/1/2015 00:00:11</td>\n",
       "      <td>10/1/2015 00:04:05</td>\n",
       "      <td>447</td>\n",
       "      <td>8 Ave &amp; W 52 St</td>\n",
       "      <td>40.763707</td>\n",
       "      <td>-73.985162</td>\n",
       "      <td>447</td>\n",
       "      <td>8 Ave &amp; W 52 St</td>\n",
       "      <td>40.763707</td>\n",
       "      <td>-73.985162</td>\n",
       "      <td>17797</td>\n",
       "      <td>Subscriber</td>\n",
       "      <td>1984.0</td>\n",
       "      <td>1</td>\n",
       "      <td>10/1/2015</td>\n",
       "    </tr>\n",
       "    <tr>\n",
       "      <th>3</th>\n",
       "      <td>250</td>\n",
       "      <td>10/1/2015 00:00:15</td>\n",
       "      <td>10/1/2015 00:04:25</td>\n",
       "      <td>336</td>\n",
       "      <td>Sullivan St &amp; Washington Sq</td>\n",
       "      <td>40.730477</td>\n",
       "      <td>-73.999061</td>\n",
       "      <td>223</td>\n",
       "      <td>W 13 St &amp; 7 Ave</td>\n",
       "      <td>40.737815</td>\n",
       "      <td>-73.999947</td>\n",
       "      <td>23966</td>\n",
       "      <td>Subscriber</td>\n",
       "      <td>1984.0</td>\n",
       "      <td>1</td>\n",
       "      <td>10/1/2015</td>\n",
       "    </tr>\n",
       "    <tr>\n",
       "      <th>4</th>\n",
       "      <td>528</td>\n",
       "      <td>10/1/2015 00:00:17</td>\n",
       "      <td>10/1/2015 00:09:05</td>\n",
       "      <td>3107</td>\n",
       "      <td>Bedford Ave &amp; Nassau Ave</td>\n",
       "      <td>40.723117</td>\n",
       "      <td>-73.952123</td>\n",
       "      <td>539</td>\n",
       "      <td>Metropolitan Ave &amp; Bedford Ave</td>\n",
       "      <td>40.715348</td>\n",
       "      <td>-73.960241</td>\n",
       "      <td>16246</td>\n",
       "      <td>Customer</td>\n",
       "      <td>NaN</td>\n",
       "      <td>0</td>\n",
       "      <td>10/1/2015</td>\n",
       "    </tr>\n",
       "  </tbody>\n",
       "</table>\n",
       "</div>"
      ],
      "text/plain": [
       "   tripduration           starttime            stoptime  start station id  \\\n",
       "0           171  10/1/2015 00:00:02  10/1/2015 00:02:54               388   \n",
       "1           593  10/1/2015 00:00:02  10/1/2015 00:09:55               518   \n",
       "2           233  10/1/2015 00:00:11  10/1/2015 00:04:05               447   \n",
       "3           250  10/1/2015 00:00:15  10/1/2015 00:04:25               336   \n",
       "4           528  10/1/2015 00:00:17  10/1/2015 00:09:05              3107   \n",
       "\n",
       "            start station name  start station latitude  \\\n",
       "0             W 26 St & 10 Ave               40.749718   \n",
       "1              E 39 St & 2 Ave               40.747804   \n",
       "2              8 Ave & W 52 St               40.763707   \n",
       "3  Sullivan St & Washington Sq               40.730477   \n",
       "4     Bedford Ave & Nassau Ave               40.723117   \n",
       "\n",
       "   start station longitude  end station id                end station name  \\\n",
       "0               -74.002950             494                 W 26 St & 8 Ave   \n",
       "1               -73.973442             438             St Marks Pl & 1 Ave   \n",
       "2               -73.985162             447                 8 Ave & W 52 St   \n",
       "3               -73.999061             223                 W 13 St & 7 Ave   \n",
       "4               -73.952123             539  Metropolitan Ave & Bedford Ave   \n",
       "\n",
       "   end station latitude  end station longitude  bikeid    usertype  \\\n",
       "0             40.747348             -73.997236   24302  Subscriber   \n",
       "1             40.727791             -73.985649   19904  Subscriber   \n",
       "2             40.763707             -73.985162   17797  Subscriber   \n",
       "3             40.737815             -73.999947   23966  Subscriber   \n",
       "4             40.715348             -73.960241   16246    Customer   \n",
       "\n",
       "   birth year  gender       date  \n",
       "0      1973.0       1  10/1/2015  \n",
       "1      1990.0       1  10/1/2015  \n",
       "2      1984.0       1  10/1/2015  \n",
       "3      1984.0       1  10/1/2015  \n",
       "4         NaN       0  10/1/2015  "
      ]
     },
     "execution_count": 27,
     "metadata": {},
     "output_type": "execute_result"
    }
   ],
   "source": [
    "print(\"Sample of the data:\")\n",
    "file.head()"
   ]
  },
  {
   "cell_type": "markdown",
   "metadata": {},
   "source": [
    "### Solution & Hypothesis\n",
    "In order to help convert customers to subscribers sales persons will be staffed at select medium and high volume starting stations to discuss the different pass options with customers. The sales persons will be working to shift existing Customers to Subscribers. \n",
    "\n",
    "Therefore the hypothesis is that having a conversation with a salesperson about Citi Bike's offerings will increase the number of Subscribers, and improve the percentage of overall riders who are subscribers."
   ]
  },
  {
   "cell_type": "markdown",
   "metadata": {},
   "source": [
    "### Method of Testing the Solution\n",
    "\n",
    "In order to perform this test ten medium and high volume stations with a Subscriber percent below 75% will have sales people posted at the kiosk. Ten medium and high volume stations will also be selected as the control. The mix of medium and high volume stations in each group will be the same. Riders may return their bikes to their original station, or a different one. We will focus on interacting with those that are about to start their rides, and not those that are returning.  This will be to maintain the customer experience of dock your bike and go.  Only riders who are checking out a bike have to go to the kiosk. In addition to maintaining the customer experience we have also found that when focusing on stations where the Subscriber Percent is below 75% we will encounter roughly the same number of Customers.  So there is no significant loss in focusing primarily on Customers at their starting station, versus at their end station."
   ]
  },
  {
   "cell_type": "code",
   "execution_count": 142,
   "metadata": {
    "scrolled": false
   },
   "outputs": [
    {
     "data": {
      "image/png": "[encoded data removed]",
      "text/plain": [
       "<matplotlib.figure.Figure at 0x1812c66ea20>"
      ]
     },
     "metadata": {},
     "output_type": "display_data"
    },
    {
     "name": "stdout",
     "output_type": "stream",
     "text": [
      "Ending Station Where Percent Subscriber Below 75% Customer Count: 907763.0\n",
      "Starting Station Where Perecent Subscriber Below 75% Customer Count: 907380.0\n"
     ]
    }
   ],
   "source": [
    "plt.figure(figsize=(10,5))\n",
    "plt.bar(count_groups, customer_counts)\n",
    "plt.xlabel(\"Starting vs End Station\")\n",
    "plt.ylabel(\"Number of Customers\")\n",
    "plt.title(\"Number of Customers at Starting and End Stations where Subscriber Percent is Below 75%\")\n",
    "plt.show()\n",
    "\n",
    "end_customer_count = user_pivot_end_75.Customer.sum()\n",
    "print(\"Ending Station Where Percent Subscriber Below 75% Customer Count: \" + str(end_customer_count))\n",
    "start_customer_count = user_pivot_start_75.Customer.sum()\n",
    "print(\"Starting Station Where Perecent Subscriber Below 75% Customer Count: \" + str(start_customer_count))"
   ]
  },
  {
   "cell_type": "markdown",
   "metadata": {},
   "source": [
    "The sales person will be provided an outline of talking points to review with Customers their riding habits and determine if they would potentially benefit from becoming a Subscriber.  Due to seasonality where the riding volume decreases during the colder months of November to February, the primary riding season is April to October. "
   ]
  },
  {
   "cell_type": "code",
   "execution_count": 223,
   "metadata": {
    "scrolled": false
   },
   "outputs": [
    {
     "data": {
      "image/png": "[encoded data removed]",
      "text/plain": [
       "<matplotlib.figure.Figure at 0x1812df17f28>"
      ]
     },
     "metadata": {},
     "output_type": "display_data"
    }
   ],
   "source": [
    "year_1 = final_date_data.loc[final_date_data[\"12_month\"] == \"Group 1\"]\n",
    "year_1 = year_1.sort_values(\"month\")\n",
    "year_2 = final_date_data.loc[final_date_data[\"12_month\"] == \"Group 2\"]\n",
    "year_2 = year_2.sort_values(\"month\")\n",
    "plt.figure(figsize=(15,5))\n",
    "groups = [\"2015 - 2016\", \"2016 - 2017\"]\n",
    "months_leg = [\"Jan\", \"Feb\", \"Mar\", \"Apr\", \"May\", \"Jun\", \"Jul\", \"Aug\", \"Sep\", \"Oct\",\"Nov\", \"Dec\"]\n",
    "datex=year_1.month\n",
    "ax=plt.subplot()\n",
    "ax.set_xticklabels(months_leg)\n",
    "year_1_data =year_1.trip_count\n",
    "year_2_data =year_2.trip_count\n",
    "plt.subplot(1,2,1)\n",
    "\n",
    "plt.plot(datex,year_1_data)\n",
    "plt.plot(datex,year_2_data)\n",
    "plt.xticks([1,2,3,4,5,6,7,8,9,10,11,12],months_leg,rotation=90)\n",
    "\n",
    "plt.legend(groups)\n",
    "plt.title(\"Number of Trips by Month for 2 Years\")\n",
    "plt.xlabel(\"Month\")\n",
    "ax.set_xticklabels(months_leg)\n",
    "plt.subplot(1,2,2)\n",
    "#Calculate location for first set of bars\n",
    "n = 1\n",
    "t = 2\n",
    "d = 12\n",
    "w = .8\n",
    "year_1_x = [t*element + w*n for element in range(d)]\n",
    "plt.bar(year_1_x, year_1_data)\n",
    "#Calculate location for second set of bars\n",
    "n = 2\n",
    "t = 2 \n",
    "d = 12 \n",
    "w = .8 \n",
    "year_2_x = [t*element + w*n for element in range(d)]\n",
    "plt.bar(year_2_x, year_2_data)\n",
    "plt.legend(groups)\n",
    "plt.title(\"Number of Trips by Month for 2 Years\")\n",
    "plt.xlabel(\"Month\")\n",
    "plt.xticks([1,2,3,4,5,6,7,8,9,10,11,12],months_leg,rotation=90)\n",
    "middle_x = [(x1 + x2)/2.0 for (x1,x2) in zip(year_1_x, year_2_x)]\n",
    "plt.xticks(middle_x)\n",
    "plt.ylabel(\"Number of Trips\")\n",
    "plt.show()\n"
   ]
  },
  {
   "cell_type": "markdown",
   "metadata": {},
   "source": [
    "#### Rollout Plan\n",
    "\n",
    "The test will be performed from the beginning of the riding season in April,  until the end of July, a period of four months. We will focus on this period as the best impression of value can be conveyed to the customers while they still have several months of the riding season left.  While October has had the peak number of riders the last two years, it will be difficult to sell an annual pass to a customer just before winter begins and ridership declines dramatically.\n",
    "\n",
    "For each test station 3 sales associates will be hired, for a total of 30. One sales person will be required at a station at all times between 6 am to 10 pm, Monday to Friday.  During peak times from 8am to 7 pm there will be an overlap of two sales people. Sales people will be given the following instructions:\n",
    "\n",
    "- Stand near the kiosk and engage customers as they check bikes out\n",
    "- Sales persons should aim to spend less than 2 minutes with each customer to maintain the customer experience of a quick checkout process.\n",
    "- For those who are not Subscribers, ask about their riding habits, and if frequent suggest an annual pass highlighting how much they would save based on their riding habits.\n",
    "- For those who ride frequently but object to the annual pass take notation on what their objection is:\n",
    "    - Is it too expensive for a one time payment?\n",
    "    - Do they feel they just don't need it?\n",
    "    - Do they use other services as well?\n",
    "    - Other - with general description\n",
    "\n",
    "Sales people will be given a form to tally the responses they receive each day for each Customer. This data will be aggregated and used for additional analysis after the test. Sales people will also keep track of the ID number for a Customer so conversions to Subscriber can be monitored and tracked.\n"
   ]
  },
  {
   "cell_type": "code",
   "execution_count": 164,
   "metadata": {
    "scrolled": true
   },
   "outputs": [
    {
     "data": {
      "image/png": "[encoded data removed]",
      "text/plain": [
       "<matplotlib.figure.Figure at 0x1812bb110b8>"
      ]
     },
     "metadata": {},
     "output_type": "display_data"
    },
    {
     "name": "stdout",
     "output_type": "stream",
     "text": [
      "As show by the chart above the peak times are from 8am to 7pm\n"
     ]
    }
   ],
   "source": [
    "plt.figure(figsize=(10,4))\n",
    "plt.bar(hour, ride_count_by_hour)\n",
    "plt.xlabel(\"Hour of the Day Ride Started\")\n",
    "plt.ylabel(\"Number of Riders\")\n",
    "plt.title(\"Number of Riders by Hour of Day\")\n",
    "plt.show()\n",
    "print(\"As show by the chart above the peak times are from 8am to 7pm\")"
   ]
  },
  {
   "cell_type": "markdown",
   "metadata": {},
   "source": [
    "##### The Evaluation Plan\n",
    "\n",
    "We will monitor the change in Subscriber percent between our two test groups, comparing at the end of the 4 month period.  If the Subscriber percent has increased 50% more for the test group than the control group, we can conclude that using sales people at stations will materially improve the Subscriber percent.  We will require such a high bar due to the labor costs, as opposed to just having a payment terminal. Some other metrics we will monitor include number of trips per station.  It will be interesting to see if having an employee there will impact overall usage of a station.  Increasing the number of overall riders, and not just converting existing Customers to Subscribers.  We will also track how long it takes Customers to convert to Subscribers. If the rate is slow in the future additional tests can include incentives to speed up conversion."
   ]
  },
  {
   "cell_type": "code",
   "execution_count": 2,
   "metadata": {
    "collapsed": true
   },
   "outputs": [],
   "source": [
    "import numpy as np\n",
    "import pandas as pd\n",
    "import matplotlib.pyplot as plt\n",
    "import seaborn as sns\n",
    "from IPython.display import HTML\n",
    "%matplotlib inline"
   ]
  },
  {
   "cell_type": "code",
   "execution_count": 176,
   "metadata": {
    "scrolled": true
   },
   "outputs": [
    {
     "data": {
      "text/html": [
       "<script>\n",
       "code_show=true; \n",
       "function code_toggle() {\n",
       " if (code_show){\n",
       " $('div.input').hide();\n",
       " } else {\n",
       " $('div.input').show();\n",
       " }\n",
       " code_show = !code_show\n",
       "} \n",
       "$( document ).ready(code_toggle);\n",
       "</script>\n",
       "The raw code for this IPython notebook is by default hidden for easier reading.\n",
       "To toggle on/off the raw code, click <a href=\"javascript:code_toggle()\">here</a>."
      ],
      "text/plain": [
       "<IPython.core.display.HTML object>"
      ]
     },
     "execution_count": 176,
     "metadata": {},
     "output_type": "execute_result"
    }
   ],
   "source": [
    "HTML('''<script>\n",
    "code_show=true; \n",
    "function code_toggle() {\n",
    " if (code_show){\n",
    " $('div.input').hide();\n",
    " } else {\n",
    " $('div.input').show();\n",
    " }\n",
    " code_show = !code_show\n",
    "} \n",
    "$( document ).ready(code_toggle);\n",
    "</script>\n",
    "The raw code for this IPython notebook is by default hidden for easier reading.\n",
    "To toggle on/off the raw code, click <a href=\"javascript:code_toggle()\">here</a>.''')"
   ]
  },
  {
   "cell_type": "code",
   "execution_count": 3,
   "metadata": {
    "collapsed": true
   },
   "outputs": [],
   "source": [
    "#Bring in Data Files\n",
    "a1=  pd.read_csv(\"201510-citibike-tripdata.csv\")\n",
    "a2=  pd.read_csv(\"201511-citibike-tripdata.csv\")\n",
    "a3=  pd.read_csv(\"201512-citibike-tripdata.csv\")\n",
    "a4=  pd.read_csv(\"201601-citibike-tripdata.csv\")\n",
    "a5=  pd.read_csv(\"201602-citibike-tripdata.csv\")\n",
    "a6=  pd.read_csv(\"201603-citibike-tripdata.csv\")\n",
    "a7=  pd.read_csv(\"201604-citibike-tripdata.csv\")\n",
    "a8=  pd.read_csv(\"201605-citibike-tripdata.csv\")\n",
    "a9=  pd.read_csv(\"201606-citibike-tripdata.csv\")\n",
    "a10= pd.read_csv(\"201607-citibike-tripdata.csv\")\n",
    "a11= pd.read_csv(\"201608-citibike-tripdata.csv\")\n",
    "a12= pd.read_csv(\"201609-citibike-tripdata.csv\")\n",
    "a13= pd.read_csv(\"201610-citibike-tripdata.csv\")\n",
    "a14= pd.read_csv(\"201611-citibike-tripdata.csv\")\n",
    "a15= pd.read_csv(\"201612-citibike-tripdata.csv\")\n",
    "a16= pd.read_csv(\"201701-citibike-tripdata.csv\")\n",
    "a17= pd.read_csv(\"201702-citibike-tripdata.csv\")\n",
    "a18= pd.read_csv(\"201703-citibike-tripdata.csv\")\n",
    "a19= pd.read_csv(\"201704-citibike-tripdata.csv\")\n",
    "a20= pd.read_csv(\"201705-citibike-tripdata.csv\")\n",
    "a21= pd.read_csv(\"201706-citibike-tripdata.csv\")\n",
    "a22= pd.read_csv(\"201707-citibike-tripdata.csv\")\n",
    "a23= pd.read_csv(\"201708-citibike-tripdata.csv\")\n",
    "a24= pd.read_csv(\"201709-citibike-tripdata.csv\")\n",
    "\n",
    "\n"
   ]
  },
  {
   "cell_type": "code",
   "execution_count": 4,
   "metadata": {
    "collapsed": true
   },
   "outputs": [],
   "source": [
    "#Make all column headers the same -- There are slight formatting differences\n",
    "a1t = a1.rename(columns={\"Trip Duration\":\"tripduration\",\"Start Time\":\"starttime\",\"Stop Time\":\"stoptime\",\"Start Station ID\":\"start station id\",\"Start Station Name\":\"start station name\",\"Start Station Latitude\":\"start station latitude\",\"Start Station Longitude\":\"start station longitude\",\"End Station ID\":\"end station id\",\"End Station Name\":\"end station name\",\"End Station Latitude\":\"end station latitude\",\"End Station Longitude\":\"end station longitude\",\"Bike ID\":\"bikeid\",\"User Type\":\"usertype\",\"Birth Year\":\"birth year\",\"Gender\":\"gender\"})\n",
    "a2t = a2.rename(columns={\"Trip Duration\":\"tripduration\",\"Start Time\":\"starttime\",\"Stop Time\":\"stoptime\",\"Start Station ID\":\"start station id\",\"Start Station Name\":\"start station name\",\"Start Station Latitude\":\"start station latitude\",\"Start Station Longitude\":\"start station longitude\",\"End Station ID\":\"end station id\",\"End Station Name\":\"end station name\",\"End Station Latitude\":\"end station latitude\",\"End Station Longitude\":\"end station longitude\",\"Bike ID\":\"bikeid\",\"User Type\":\"usertype\",\"Birth Year\":\"birth year\",\"Gender\":\"gender\"})\n",
    "a3t = a3.rename(columns={\"Trip Duration\":\"tripduration\",\"Start Time\":\"starttime\",\"Stop Time\":\"stoptime\",\"Start Station ID\":\"start station id\",\"Start Station Name\":\"start station name\",\"Start Station Latitude\":\"start station latitude\",\"Start Station Longitude\":\"start station longitude\",\"End Station ID\":\"end station id\",\"End Station Name\":\"end station name\",\"End Station Latitude\":\"end station latitude\",\"End Station Longitude\":\"end station longitude\",\"Bike ID\":\"bikeid\",\"User Type\":\"usertype\",\"Birth Year\":\"birth year\",\"Gender\":\"gender\"})\n",
    "a4t=  a4.rename(columns={\"Trip Duration\":\"tripduration\",\"Start Time\":\"starttime\",\"Stop Time\":\"stoptime\",\"Start Station ID\":\"start station id\",\"Start Station Name\":\"start station name\",\"Start Station Latitude\":\"start station latitude\",\"Start Station Longitude\":\"start station longitude\",\"End Station ID\":\"end station id\",\"End Station Name\":\"end station name\",\"End Station Latitude\":\"end station latitude\",\"End Station Longitude\":\"end station longitude\",\"Bike ID\":\"bikeid\",\"User Type\":\"usertype\",\"Birth Year\":\"birth year\",\"Gender\":\"gender\"})\n",
    "a5t=  a5.rename(columns={\"Trip Duration\":\"tripduration\",\"Start Time\":\"starttime\",\"Stop Time\":\"stoptime\",\"Start Station ID\":\"start station id\",\"Start Station Name\":\"start station name\",\"Start Station Latitude\":\"start station latitude\",\"Start Station Longitude\":\"start station longitude\",\"End Station ID\":\"end station id\",\"End Station Name\":\"end station name\",\"End Station Latitude\":\"end station latitude\",\"End Station Longitude\":\"end station longitude\",\"Bike ID\":\"bikeid\",\"User Type\":\"usertype\",\"Birth Year\":\"birth year\",\"Gender\":\"gender\"})\n",
    "a6t=  a6.rename(columns={\"Trip Duration\":\"tripduration\",\"Start Time\":\"starttime\",\"Stop Time\":\"stoptime\",\"Start Station ID\":\"start station id\",\"Start Station Name\":\"start station name\",\"Start Station Latitude\":\"start station latitude\",\"Start Station Longitude\":\"start station longitude\",\"End Station ID\":\"end station id\",\"End Station Name\":\"end station name\",\"End Station Latitude\":\"end station latitude\",\"End Station Longitude\":\"end station longitude\",\"Bike ID\":\"bikeid\",\"User Type\":\"usertype\",\"Birth Year\":\"birth year\",\"Gender\":\"gender\"})\n",
    "a7t=  a7.rename(columns={\"Trip Duration\":\"tripduration\",\"Start Time\":\"starttime\",\"Stop Time\":\"stoptime\",\"Start Station ID\":\"start station id\",\"Start Station Name\":\"start station name\",\"Start Station Latitude\":\"start station latitude\",\"Start Station Longitude\":\"start station longitude\",\"End Station ID\":\"end station id\",\"End Station Name\":\"end station name\",\"End Station Latitude\":\"end station latitude\",\"End Station Longitude\":\"end station longitude\",\"Bike ID\":\"bikeid\",\"User Type\":\"usertype\",\"Birth Year\":\"birth year\",\"Gender\":\"gender\"})\n",
    "a8t=  a8.rename(columns={\"Trip Duration\":\"tripduration\",\"Start Time\":\"starttime\",\"Stop Time\":\"stoptime\",\"Start Station ID\":\"start station id\",\"Start Station Name\":\"start station name\",\"Start Station Latitude\":\"start station latitude\",\"Start Station Longitude\":\"start station longitude\",\"End Station ID\":\"end station id\",\"End Station Name\":\"end station name\",\"End Station Latitude\":\"end station latitude\",\"End Station Longitude\":\"end station longitude\",\"Bike ID\":\"bikeid\",\"User Type\":\"usertype\",\"Birth Year\":\"birth year\",\"Gender\":\"gender\"})\n",
    "a9t=  a9.rename(columns={\"Trip Duration\":\"tripduration\",\"Start Time\":\"starttime\",\"Stop Time\":\"stoptime\",\"Start Station ID\":\"start station id\",\"Start Station Name\":\"start station name\",\"Start Station Latitude\":\"start station latitude\",\"Start Station Longitude\":\"start station longitude\",\"End Station ID\":\"end station id\",\"End Station Name\":\"end station name\",\"End Station Latitude\":\"end station latitude\",\"End Station Longitude\":\"end station longitude\",\"Bike ID\":\"bikeid\",\"User Type\":\"usertype\",\"Birth Year\":\"birth year\",\"Gender\":\"gender\"})\n",
    "a10t= a10.rename(columns={\"Trip Duration\":\"tripduration\",\"Start Time\":\"starttime\",\"Stop Time\":\"stoptime\",\"Start Station ID\":\"start station id\",\"Start Station Name\":\"start station name\",\"Start Station Latitude\":\"start station latitude\",\"Start Station Longitude\":\"start station longitude\",\"End Station ID\":\"end station id\",\"End Station Name\":\"end station name\",\"End Station Latitude\":\"end station latitude\",\"End Station Longitude\":\"end station longitude\",\"Bike ID\":\"bikeid\",\"User Type\":\"usertype\",\"Birth Year\":\"birth year\",\"Gender\":\"gender\"})\n",
    "a11t= a11.rename(columns={\"Trip Duration\":\"tripduration\",\"Start Time\":\"starttime\",\"Stop Time\":\"stoptime\",\"Start Station ID\":\"start station id\",\"Start Station Name\":\"start station name\",\"Start Station Latitude\":\"start station latitude\",\"Start Station Longitude\":\"start station longitude\",\"End Station ID\":\"end station id\",\"End Station Name\":\"end station name\",\"End Station Latitude\":\"end station latitude\",\"End Station Longitude\":\"end station longitude\",\"Bike ID\":\"bikeid\",\"User Type\":\"usertype\",\"Birth Year\":\"birth year\",\"Gender\":\"gender\"})\n",
    "a12t= a12.rename(columns={\"Trip Duration\":\"tripduration\",\"Start Time\":\"starttime\",\"Stop Time\":\"stoptime\",\"Start Station ID\":\"start station id\",\"Start Station Name\":\"start station name\",\"Start Station Latitude\":\"start station latitude\",\"Start Station Longitude\":\"start station longitude\",\"End Station ID\":\"end station id\",\"End Station Name\":\"end station name\",\"End Station Latitude\":\"end station latitude\",\"End Station Longitude\":\"end station longitude\",\"Bike ID\":\"bikeid\",\"User Type\":\"usertype\",\"Birth Year\":\"birth year\",\"Gender\":\"gender\"})\n",
    "a13t= a13.rename(columns={\"Trip Duration\":\"tripduration\",\"Start Time\":\"starttime\",\"Stop Time\":\"stoptime\",\"Start Station ID\":\"start station id\",\"Start Station Name\":\"start station name\",\"Start Station Latitude\":\"start station latitude\",\"Start Station Longitude\":\"start station longitude\",\"End Station ID\":\"end station id\",\"End Station Name\":\"end station name\",\"End Station Latitude\":\"end station latitude\",\"End Station Longitude\":\"end station longitude\",\"Bike ID\":\"bikeid\",\"User Type\":\"usertype\",\"Birth Year\":\"birth year\",\"Gender\":\"gender\"})\n",
    "a14t= a14.rename(columns={\"Trip Duration\":\"tripduration\",\"Start Time\":\"starttime\",\"Stop Time\":\"stoptime\",\"Start Station ID\":\"start station id\",\"Start Station Name\":\"start station name\",\"Start Station Latitude\":\"start station latitude\",\"Start Station Longitude\":\"start station longitude\",\"End Station ID\":\"end station id\",\"End Station Name\":\"end station name\",\"End Station Latitude\":\"end station latitude\",\"End Station Longitude\":\"end station longitude\",\"Bike ID\":\"bikeid\",\"User Type\":\"usertype\",\"Birth Year\":\"birth year\",\"Gender\":\"gender\"})\n",
    "a15t= a15.rename(columns={\"Trip Duration\":\"tripduration\",\"Start Time\":\"starttime\",\"Stop Time\":\"stoptime\",\"Start Station ID\":\"start station id\",\"Start Station Name\":\"start station name\",\"Start Station Latitude\":\"start station latitude\",\"Start Station Longitude\":\"start station longitude\",\"End Station ID\":\"end station id\",\"End Station Name\":\"end station name\",\"End Station Latitude\":\"end station latitude\",\"End Station Longitude\":\"end station longitude\",\"Bike ID\":\"bikeid\",\"User Type\":\"usertype\",\"Birth Year\":\"birth year\",\"Gender\":\"gender\"})\n",
    "a16t= a16.rename(columns={\"Trip Duration\":\"tripduration\",\"Start Time\":\"starttime\",\"Stop Time\":\"stoptime\",\"Start Station ID\":\"start station id\",\"Start Station Name\":\"start station name\",\"Start Station Latitude\":\"start station latitude\",\"Start Station Longitude\":\"start station longitude\",\"End Station ID\":\"end station id\",\"End Station Name\":\"end station name\",\"End Station Latitude\":\"end station latitude\",\"End Station Longitude\":\"end station longitude\",\"Bike ID\":\"bikeid\",\"User Type\":\"usertype\",\"Birth Year\":\"birth year\",\"Gender\":\"gender\"})\n",
    "a17t= a17.rename(columns={\"Trip Duration\":\"tripduration\",\"Start Time\":\"starttime\",\"Stop Time\":\"stoptime\",\"Start Station ID\":\"start station id\",\"Start Station Name\":\"start station name\",\"Start Station Latitude\":\"start station latitude\",\"Start Station Longitude\":\"start station longitude\",\"End Station ID\":\"end station id\",\"End Station Name\":\"end station name\",\"End Station Latitude\":\"end station latitude\",\"End Station Longitude\":\"end station longitude\",\"Bike ID\":\"bikeid\",\"User Type\":\"usertype\",\"Birth Year\":\"birth year\",\"Gender\":\"gender\"})\n",
    "a18t= a18.rename(columns={\"Trip Duration\":\"tripduration\",\"Start Time\":\"starttime\",\"Stop Time\":\"stoptime\",\"Start Station ID\":\"start station id\",\"Start Station Name\":\"start station name\",\"Start Station Latitude\":\"start station latitude\",\"Start Station Longitude\":\"start station longitude\",\"End Station ID\":\"end station id\",\"End Station Name\":\"end station name\",\"End Station Latitude\":\"end station latitude\",\"End Station Longitude\":\"end station longitude\",\"Bike ID\":\"bikeid\",\"User Type\":\"usertype\",\"Birth Year\":\"birth year\",\"Gender\":\"gender\"})\n",
    "a19t= a19.rename(columns={\"Trip Duration\":\"tripduration\",\"Start Time\":\"starttime\",\"Stop Time\":\"stoptime\",\"Start Station ID\":\"start station id\",\"Start Station Name\":\"start station name\",\"Start Station Latitude\":\"start station latitude\",\"Start Station Longitude\":\"start station longitude\",\"End Station ID\":\"end station id\",\"End Station Name\":\"end station name\",\"End Station Latitude\":\"end station latitude\",\"End Station Longitude\":\"end station longitude\",\"Bike ID\":\"bikeid\",\"User Type\":\"usertype\",\"Birth Year\":\"birth year\",\"Gender\":\"gender\"})\n",
    "a20t= a20.rename(columns={\"Trip Duration\":\"tripduration\",\"Start Time\":\"starttime\",\"Stop Time\":\"stoptime\",\"Start Station ID\":\"start station id\",\"Start Station Name\":\"start station name\",\"Start Station Latitude\":\"start station latitude\",\"Start Station Longitude\":\"start station longitude\",\"End Station ID\":\"end station id\",\"End Station Name\":\"end station name\",\"End Station Latitude\":\"end station latitude\",\"End Station Longitude\":\"end station longitude\",\"Bike ID\":\"bikeid\",\"User Type\":\"usertype\",\"Birth Year\":\"birth year\",\"Gender\":\"gender\"})\n",
    "a21t= a21.rename(columns={\"Trip Duration\":\"tripduration\",\"Start Time\":\"starttime\",\"Stop Time\":\"stoptime\",\"Start Station ID\":\"start station id\",\"Start Station Name\":\"start station name\",\"Start Station Latitude\":\"start station latitude\",\"Start Station Longitude\":\"start station longitude\",\"End Station ID\":\"end station id\",\"End Station Name\":\"end station name\",\"End Station Latitude\":\"end station latitude\",\"End Station Longitude\":\"end station longitude\",\"Bike ID\":\"bikeid\",\"User Type\":\"usertype\",\"Birth Year\":\"birth year\",\"Gender\":\"gender\"})\n",
    "a22t= a22.rename(columns={\"Trip Duration\":\"tripduration\",\"Start Time\":\"starttime\",\"Stop Time\":\"stoptime\",\"Start Station ID\":\"start station id\",\"Start Station Name\":\"start station name\",\"Start Station Latitude\":\"start station latitude\",\"Start Station Longitude\":\"start station longitude\",\"End Station ID\":\"end station id\",\"End Station Name\":\"end station name\",\"End Station Latitude\":\"end station latitude\",\"End Station Longitude\":\"end station longitude\",\"Bike ID\":\"bikeid\",\"User Type\":\"usertype\",\"Birth Year\":\"birth year\",\"Gender\":\"gender\"})\n",
    "a23t= a23.rename(columns={\"Trip Duration\":\"tripduration\",\"Start Time\":\"starttime\",\"Stop Time\":\"stoptime\",\"Start Station ID\":\"start station id\",\"Start Station Name\":\"start station name\",\"Start Station Latitude\":\"start station latitude\",\"Start Station Longitude\":\"start station longitude\",\"End Station ID\":\"end station id\",\"End Station Name\":\"end station name\",\"End Station Latitude\":\"end station latitude\",\"End Station Longitude\":\"end station longitude\",\"Bike ID\":\"bikeid\",\"User Type\":\"usertype\",\"Birth Year\":\"birth year\",\"Gender\":\"gender\"})\n",
    "a24t= a24.rename(columns={\"Trip Duration\":\"tripduration\",\"Start Time\":\"starttime\",\"Stop Time\":\"stoptime\",\"Start Station ID\":\"start station id\",\"Start Station Name\":\"start station name\",\"Start Station Latitude\":\"start station latitude\",\"Start Station Longitude\":\"start station longitude\",\"End Station ID\":\"end station id\",\"End Station Name\":\"end station name\",\"End Station Latitude\":\"end station latitude\",\"End Station Longitude\":\"end station longitude\",\"Bike ID\":\"bikeid\",\"User Type\":\"usertype\",\"Birth Year\":\"birth year\",\"Gender\":\"gender\"})\n"
   ]
  },
  {
   "cell_type": "code",
   "execution_count": 5,
   "metadata": {
    "collapsed": true
   },
   "outputs": [],
   "source": [
    "#Merge tables\n",
    "raw_data = pd.concat([a1t,a2t,a3t,a4t,a5t,a6t,a7t,a8t,a9t,a10t,a11t,a12t,a13t,a14t,a15t,a16t,a17t,a18t,a19t,a20t,a21t,a22t,a23t,a24t])"
   ]
  },
  {
   "cell_type": "code",
   "execution_count": 165,
   "metadata": {},
   "outputs": [],
   "source": [
    "#raw_data.info()"
   ]
  },
  {
   "cell_type": "code",
   "execution_count": 8,
   "metadata": {},
   "outputs": [],
   "source": [
    "#raw_data.describe()"
   ]
  },
  {
   "cell_type": "code",
   "execution_count": 9,
   "metadata": {
    "collapsed": true
   },
   "outputs": [],
   "source": [
    "#Creating working copy\n",
    "file = raw_data"
   ]
  },
  {
   "cell_type": "code",
   "execution_count": 10,
   "metadata": {},
   "outputs": [],
   "source": [
    "#file.info()"
   ]
  },
  {
   "cell_type": "code",
   "execution_count": 11,
   "metadata": {},
   "outputs": [],
   "source": [
    "#Add Date Column - Currently date with time\n",
    "file[\"date\"] = file[\"starttime\"].apply(lambda x: x.split()[0])\n",
    "#Group by date with count on trip duration\n",
    "date_data = file.groupby(\"date\").tripduration.count().reset_index()\n",
    "date_data.rename(columns={\"tripduration\":\"trip_count\"},inplace=True)\n",
    "#Rename\n",
    "#date_data.head()"
   ]
  },
  {
   "cell_type": "code",
   "execution_count": 166,
   "metadata": {},
   "outputs": [],
   "source": [
    "#date_data.info()"
   ]
  },
  {
   "cell_type": "code",
   "execution_count": 12,
   "metadata": {
    "collapsed": true
   },
   "outputs": [],
   "source": [
    "#Convert date column to date formart\n",
    "date_data[\"date\"] = pd.to_datetime(date_data[\"date\"])\n",
    "#Extract month from date column and add new column month\n",
    "date_data[\"month\"] = date_data[\"date\"].apply(lambda x: x.strftime(\"%m\"))\n",
    "#Extract year from date column and add new column month\n",
    "date_data[\"year\"] = date_data[\"date\"].apply(lambda x: x.strftime(\"%Y\"))\n",
    "# ---- date_data[\"month_year\"] = pd.to_datetime(date_data[\"month_year\"])\n",
    "final_date_data = date_data.groupby([\"year\",\"month\"]).trip_count.sum().reset_index()"
   ]
  },
  {
   "cell_type": "code",
   "execution_count": 167,
   "metadata": {
    "scrolled": false
   },
   "outputs": [],
   "source": [
    "#Add Hour Column - Currently date with time\n",
    "file[\"time\"] = file[\"starttime\"].apply(lambda x: x.split()[1])\n",
    "#Group by date with count on trip duration\n",
    "hour_data = file.groupby(\"time\").tripduration.count().reset_index()\n",
    "hour_data.rename(columns={\"tripduration\":\"trip_count\"},inplace=True)\n",
    "\n",
    "#hour_data.head()"
   ]
  },
  {
   "cell_type": "code",
   "execution_count": 168,
   "metadata": {
    "scrolled": true
   },
   "outputs": [],
   "source": [
    "hour_data[\"hour\"] = hour_data[\"time\"].apply(lambda x: x.split(\":\")[0])\n",
    "#hour_data"
   ]
  },
  {
   "cell_type": "code",
   "execution_count": 148,
   "metadata": {},
   "outputs": [],
   "source": [
    "hour_data_grouped = hour_data.groupby(\"hour\").trip_count.sum().reset_index()"
   ]
  },
  {
   "cell_type": "code",
   "execution_count": 154,
   "metadata": {
    "collapsed": true
   },
   "outputs": [],
   "source": [
    "hour = hour_data_grouped[\"hour\"]\n",
    "ride_count_by_hour = hour_data_grouped[\"trip_count\"]"
   ]
  },
  {
   "cell_type": "code",
   "execution_count": 169,
   "metadata": {},
   "outputs": [],
   "source": [
    "#hour_data_grouped"
   ]
  },
  {
   "cell_type": "code",
   "execution_count": 13,
   "metadata": {},
   "outputs": [],
   "source": [
    "#date_data.info()"
   ]
  },
  {
   "cell_type": "code",
   "execution_count": 14,
   "metadata": {
    "collapsed": true,
    "scrolled": false
   },
   "outputs": [],
   "source": [
    "#Sort by Date\n",
    "date_data = date_data.sort_values(\"date\")"
   ]
  },
  {
   "cell_type": "code",
   "execution_count": 15,
   "metadata": {
    "collapsed": true
   },
   "outputs": [],
   "source": [
    "#Create new empty column\n",
    "final_date_data[\"12_month\"] = \"\"\n",
    "#Create two 12 month groups for graphing\n",
    "final_date_data.at[final_date_data.index[0:12], \"12_month\"] = \"Group 1\"\n",
    "final_date_data.at[final_date_data.index[12:], \"12_month\"] = \"Group 2\""
   ]
  },
  {
   "cell_type": "code",
   "execution_count": 16,
   "metadata": {
    "scrolled": false
   },
   "outputs": [],
   "source": [
    "year_1 = final_date_data.loc[final_date_data[\"12_month\"] == \"Group 1\"]\n",
    "year_1 = year_1.sort_values(\"month\")\n",
    "year_2 = final_date_data.loc[final_date_data[\"12_month\"] == \"Group 2\"]\n",
    "year_2 = year_2.sort_values(\"month\")\n",
    "\n",
    "datex=year_1.month\n",
    "#ax=plt.subplot()\n",
    "year_1_data =year_1.trip_count\n",
    "year_2_data =year_2.trip_count\n",
    "#plt.plot(datex,year_1_data)\n",
    "#plt.plot(datex,year_2_data)\n",
    "#plt.xticks(rotation=90)\n",
    "#plt.figure(figsize=(10,10))\n",
    "#groups = [\"Oct 15 - Sept 16\", \"Oct 16 - Sept 17\"]\n",
    "#months_leg = [\"Jan\", \"Feb\", \"Mar\", \"Apr\", \"May\", \"Jun\", \"Jul\", \"Aug\", \"Sep\", \"Oct\",\"Nov\", \"Dec\"]\n",
    "#ax.set_xticklabels(months_leg)\n",
    "#plt.legend(groups)\n",
    "#plt.title(\"Number of Trips by Month for 2 Years\")\n",
    "#plt.xlabel(\"Month\")\n",
    "#plt.ylabel(\"Number of Trips\")\n",
    "#Legend and labels, month number to month\n",
    "#plt.show()\n"
   ]
  },
  {
   "cell_type": "code",
   "execution_count": 17,
   "metadata": {
    "collapsed": true,
    "scrolled": false
   },
   "outputs": [],
   "source": [
    "#final_date_data.head(24)"
   ]
  },
  {
   "cell_type": "code",
   "execution_count": 18,
   "metadata": {
    "collapsed": true
   },
   "outputs": [],
   "source": [
    "#file.head()"
   ]
  },
  {
   "cell_type": "code",
   "execution_count": 170,
   "metadata": {
    "scrolled": true
   },
   "outputs": [],
   "source": [
    "#Groupby End Station and User type\n",
    "user_type_data_end = file.groupby([\"end station name\",\"usertype\"]).tripduration.count().reset_index()\n",
    "#Pivot user type to columns\n",
    "user_pivot_end= user_type_data_end.pivot(columns = \"usertype\", index=\"end station name\", values= \"tripduration\").reset_index()\n",
    "# Add perecent subscriber column\n",
    "user_pivot_end[\"Percent Subscriber\"] = user_pivot_end[\"Subscriber\"] / (user_pivot_end[\"Subscriber\"]+ user_pivot_end[\"Customer\"])\n",
    "#Sort by Subscriber Percent\n",
    "user_pivot_end = user_pivot_end.sort_values(by=\"Percent Subscriber\",ascending=True).reset_index()\n",
    "#See top 10 rows of final table\n",
    "#user_pivot_end.head(20)\n",
    "\n"
   ]
  },
  {
   "cell_type": "code",
   "execution_count": 124,
   "metadata": {
    "collapsed": true
   },
   "outputs": [],
   "source": [
    "user_pivot_end_75 = user_pivot_end[user_pivot_end[\"Percent Subscriber\"] < .75]\n",
    "user_pivot_start_75 = user_pivot[user_pivot[\"Percent Subscriber\"] < .75]\n"
   ]
  },
  {
   "cell_type": "code",
   "execution_count": 171,
   "metadata": {},
   "outputs": [],
   "source": [
    "#user_pivot_end_75"
   ]
  },
  {
   "cell_type": "code",
   "execution_count": 172,
   "metadata": {
    "scrolled": true
   },
   "outputs": [],
   "source": [
    "#user_pivot_start_75.head(100)"
   ]
  },
  {
   "cell_type": "code",
   "execution_count": 173,
   "metadata": {},
   "outputs": [],
   "source": [
    "#user_pivot_start_75.to_csv(\"start.csv\")\n",
    "#user_pivot_end_75.to_csv(\"end.csv\")"
   ]
  },
  {
   "cell_type": "code",
   "execution_count": 175,
   "metadata": {},
   "outputs": [],
   "source": [
    "end_customer_count = user_pivot_end_75.Customer.sum()\n",
    "#print(\"Ending Station Where Percent Subscriber Below 75% Customer Count: \" + str(end_customer_count))\n",
    "start_customer_count = user_pivot_start_75.Customer.sum()\n",
    "#print(\"Starting Station Where Perecent Subscriber Below 75% Customer Count: \" + str(start_customer_count))"
   ]
  },
  {
   "cell_type": "code",
   "execution_count": 132,
   "metadata": {
    "collapsed": true
   },
   "outputs": [],
   "source": [
    "customer_counts = [end_customer_count, start_customer_count]\n",
    "count_groups = [\"Ending Station\", \"Starting Station\"]"
   ]
  },
  {
   "cell_type": "code",
   "execution_count": 174,
   "metadata": {},
   "outputs": [],
   "source": [
    "#Groupby Start Station and User type\n",
    "user_type_data = file.groupby([\"start station name\",\"usertype\"]).tripduration.count().reset_index()\n",
    "#Pivot user type to columns\n",
    "user_pivot= user_type_data.pivot(columns = \"usertype\", index=\"start station name\", values= \"tripduration\").reset_index()\n",
    "# Add perecent subscriber column\n",
    "user_pivot[\"Percent Subscriber\"] = user_pivot[\"Subscriber\"] / (user_pivot[\"Subscriber\"]+ user_pivot[\"Customer\"])\n",
    "#Sort by Subscriber Percent\n",
    "user_pivot = user_pivot.sort_values(by=\"Percent Subscriber\",ascending=True).reset_index()\n",
    "#See top 10 rows of final table\n",
    "#user_pivot.head(20)\n",
    "\n"
   ]
  },
  {
   "cell_type": "code",
   "execution_count": 20,
   "metadata": {
    "scrolled": true
   },
   "outputs": [],
   "source": [
    "#Calculate Mean, Median, Max, Min, Total Mix\n",
    "#print(\"Mean is:\" +str(user_pivot[\"Percent Subscriber\"].mean()))\n",
    "#print(\"Median is:\" +str(user_pivot[\"Percent Subscriber\"].median()))\n",
    "#print(\"Max is: \" + str(user_pivot[\"Percent Subscriber\"].max()))\n",
    "#print(\"Min is: \" + str(user_pivot[\"Percent Subscriber\"].min()))\n",
    "#print(\"Total Subscriber Percent: \" + str((user_pivot.Subscriber.sum())/(user_pivot.Customer.sum() + user_pivot.Subscriber.sum())))"
   ]
  },
  {
   "cell_type": "code",
   "execution_count": 23,
   "metadata": {},
   "outputs": [],
   "source": [
    "#Separate by year to see how changing\n",
    "subscriber = ((user_pivot.Subscriber.sum())/(user_pivot.Customer.sum() + user_pivot.Subscriber.sum()))\n",
    "customer = 1 - subscriber\n",
    "pie_data = [subscriber,customer]\n",
    "#plt.pie(pie_data, autopct=\"%0.01f%%\")\n",
    "#plt.title(\"Subscriber vs Customer Mix\")\n",
    "#pie_legend = [\"Subscribers\",\"Customers\"]\n",
    "#plt.legend(pie_legend)\n",
    "#plt.axis(\"equal\")\n",
    "#plt.show"
   ]
  },
  {
   "cell_type": "code",
   "execution_count": 22,
   "metadata": {
    "scrolled": true
   },
   "outputs": [],
   "source": [
    "#Create Box Plot\n",
    "#box = user_pivot[\"Percent Subscriber\"]\n",
    "#sns.boxplot(box)\n",
    "#plt.title(\"Starting Station Subscriber Percent Box Plot\")\n",
    "#plt.show()\n",
    "\n"
   ]
  }
 ],
 "metadata": {
  "kernelspec": {
   "display_name": "Python 3",
   "language": "python",
   "name": "python3"
  },
  "language_info": {
   "codemirror_mode": {
    "name": "ipython",
    "version": 3
   },
   "file_extension": ".py",
   "mimetype": "text/x-python",
   "name": "python",
   "nbconvert_exporter": "python",
   "pygments_lexer": "ipython3",
   "version": "3.6.3"
  }
 },
 "nbformat": 4,
 "nbformat_minor": 2
}
