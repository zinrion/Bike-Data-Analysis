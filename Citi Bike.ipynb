{
 "cells": [
  {
   "cell_type": "markdown",
   "metadata": {},
   "source": [
    "# Thinkful Date Science Bootcamp Unit One Capstone\n",
    "\n",
    "#### Roy Shabaya"
   ]
  },
  {
   "cell_type": "markdown",
   "metadata": {},
   "source": [
    "Citi Bike is a bike sharing system in New York City allowing riders to rent bikes for short periods since 2013.  Using a system of 706 stations and 10,000 bikes riders are able to rent the bike for 30 or 45 minutes.  Riders may purchase either a one day or three day pass, a level which Citi Bike classifies as a Customer.  Riders may also purchase an annual pass, which Citi Bike classifies as a Subscriber.  Citi Bike believes the annual pass is the best value for Customers, not only providing a lower overall cost for regular riders, but also having an extended rental time of 45 minutes, versus 30 minutes for customers.  Over the last two years 88.78 of Citi Bike customers were Subscribers with an annual pass.  "
   ]
  },
  {
   "cell_type": "code",
   "execution_count": 31,
   "metadata": {},
   "outputs": [
    {
     "data": {
      "text/plain": [
       "<function matplotlib.pyplot.show>"
      ]
     },
     "execution_count": 31,
     "metadata": {},
     "output_type": "execute_result"
    },
    {
     "data": {
      "image/png": "[encoded data removed]",
      "text/plain": [
       "<matplotlib.figure.Figure at 0x1c32a057860>"
      ]
     },
     "metadata": {},
     "output_type": "display_data"
    }
   ],
   "source": [
    "#Sep by year to see how changing\n",
    "subscriber = ((user_pivot.Subscriber.sum())/(user_pivot.Customer.sum() + user_pivot.Subscriber.sum()))\n",
    "customer = 1 - subscriber\n",
    "pie_data = [subscriber,customer]\n",
    "plt.pie(pie_data, autopct=\"%0.01f%%\")\n",
    "plt.title(\"Subscriber vs Customer Mix\")\n",
    "pie_legend = [\"Subscribers\",\"Customers\"]\n",
    "plt.legend(pie_legend)\n",
    "plt.axis(\"equal\")\n",
    "plt.show"
   ]
  },
  {
   "cell_type": "markdown",
   "metadata": {},
   "source": [
    "However at several high volume stations the percentage of riders originating from that station that are a Subscriber are below 50%.  Based on this fact there is opportunity to target stations with Subscriber percentages below 50% with strategies to convert some Customers to Subscribers.  Subscribers are desirable to Citi Bike as the annual payment required represents guaranteed payments and revenue for Citi Bike.  Whereas Customers may use the service sporadically, as well as be tempted to use other services.  Therefore it is ideal for Citi Bike to increase the percentage of riders who are Subscribers."
   ]
  },
  {
   "cell_type": "code",
   "execution_count": 32,
   "metadata": {
    "scrolled": false
   },
   "outputs": [
    {
     "data": {
      "image/png": "[encoded data removed]",
      "text/plain": [
       "<matplotlib.figure.Figure at 0x1c32a049438>"
      ]
     },
     "metadata": {},
     "output_type": "display_data"
    }
   ],
   "source": [
    "#Create Box Plot\n",
    "box = user_pivot[\"Percent Subscriber\"]\n",
    "sns.boxplot(box)\n",
    "plt.title(\"Starting Station Subscriber Percent Box Plot\")\n",
    "plt.show()"
   ]
  },
  {
   "cell_type": "markdown",
   "metadata": {},
   "source": [
    "As shown by the box plot above most stations have a Subscriber percent above 75%, the the median near 90%.  However the outliers highlight that there are quite a few stations where they may be oppurtunity for improvement.  "
   ]
  },
  {
   "cell_type": "markdown",
   "metadata": {},
   "source": [
    "#### The Data\n",
    "\n",
    "<br>Data XXX was obtained from Citi Bike NYC.  Data from October 2015 to September 2017 was used in this analysis.  Citi Bike's data outlines the start and end station, length of the trip and type of customer.  Demographic information on the user is also included, their birth year and gender.\n",
    "\n",
    "Below are the columns used:\n",
    "\n",
    "start station name - Name of the riders starting station. \n",
    "<br>starttime - Time and date when rider began their trip.\n",
    "<br>usertype - Typer of user, Customer or Subscriber.\n",
    "\n",
    "Full list of columns (total 15 columns):\n",
    "\n",
    "tripduration\n",
    "<br> starttime\n",
    "<br>stoptimestart station id\n",
    "<br>start station name\n",
    "<br>start station latitude\n",
    "<br>start station longitude\n",
    "<br>end station id\n",
    "<br>end station name\n",
    "<br>end station latitude\n",
    "<br>end station longitude\n",
    "<br>bikeid\n",
    "<br>usertype\n",
    "<br>birth year\n",
    "<br>gender"
   ]
  },
  {
   "cell_type": "code",
   "execution_count": 44,
   "metadata": {},
   "outputs": [
    {
     "name": "stdout",
     "output_type": "stream",
     "text": [
      "Sample of the data:\n"
     ]
    },
    {
     "data": {
      "text/html": [
       "<div>\n",
       "<style>\n",
       "    .dataframe thead tr:only-child th {\n",
       "        text-align: right;\n",
       "    }\n",
       "\n",
       "    .dataframe thead th {\n",
       "        text-align: left;\n",
       "    }\n",
       "\n",
       "    .dataframe tbody tr th {\n",
       "        vertical-align: top;\n",
       "    }\n",
       "</style>\n",
       "<table border=\"1\" class=\"dataframe\">\n",
       "  <thead>\n",
       "    <tr style=\"text-align: right;\">\n",
       "      <th></th>\n",
       "      <th>tripduration</th>\n",
       "      <th>starttime</th>\n",
       "      <th>stoptime</th>\n",
       "      <th>start station id</th>\n",
       "      <th>start station name</th>\n",
       "      <th>start station latitude</th>\n",
       "      <th>start station longitude</th>\n",
       "      <th>end station id</th>\n",
       "      <th>end station name</th>\n",
       "      <th>end station latitude</th>\n",
       "      <th>end station longitude</th>\n",
       "      <th>bikeid</th>\n",
       "      <th>usertype</th>\n",
       "      <th>birth year</th>\n",
       "      <th>gender</th>\n",
       "      <th>date</th>\n",
       "    </tr>\n",
       "  </thead>\n",
       "  <tbody>\n",
       "    <tr>\n",
       "      <th>0</th>\n",
       "      <td>171</td>\n",
       "      <td>10/1/2015 00:00:02</td>\n",
       "      <td>10/1/2015 00:02:54</td>\n",
       "      <td>388</td>\n",
       "      <td>W 26 St &amp; 10 Ave</td>\n",
       "      <td>40.749718</td>\n",
       "      <td>-74.002950</td>\n",
       "      <td>494</td>\n",
       "      <td>W 26 St &amp; 8 Ave</td>\n",
       "      <td>40.747348</td>\n",
       "      <td>-73.997236</td>\n",
       "      <td>24302</td>\n",
       "      <td>Subscriber</td>\n",
       "      <td>1973.0</td>\n",
       "      <td>1</td>\n",
       "      <td>10/1/2015</td>\n",
       "    </tr>\n",
       "    <tr>\n",
       "      <th>1</th>\n",
       "      <td>593</td>\n",
       "      <td>10/1/2015 00:00:02</td>\n",
       "      <td>10/1/2015 00:09:55</td>\n",
       "      <td>518</td>\n",
       "      <td>E 39 St &amp; 2 Ave</td>\n",
       "      <td>40.747804</td>\n",
       "      <td>-73.973442</td>\n",
       "      <td>438</td>\n",
       "      <td>St Marks Pl &amp; 1 Ave</td>\n",
       "      <td>40.727791</td>\n",
       "      <td>-73.985649</td>\n",
       "      <td>19904</td>\n",
       "      <td>Subscriber</td>\n",
       "      <td>1990.0</td>\n",
       "      <td>1</td>\n",
       "      <td>10/1/2015</td>\n",
       "    </tr>\n",
       "    <tr>\n",
       "      <th>2</th>\n",
       "      <td>233</td>\n",
       "      <td>10/1/2015 00:00:11</td>\n",
       "      <td>10/1/2015 00:04:05</td>\n",
       "      <td>447</td>\n",
       "      <td>8 Ave &amp; W 52 St</td>\n",
       "      <td>40.763707</td>\n",
       "      <td>-73.985162</td>\n",
       "      <td>447</td>\n",
       "      <td>8 Ave &amp; W 52 St</td>\n",
       "      <td>40.763707</td>\n",
       "      <td>-73.985162</td>\n",
       "      <td>17797</td>\n",
       "      <td>Subscriber</td>\n",
       "      <td>1984.0</td>\n",
       "      <td>1</td>\n",
       "      <td>10/1/2015</td>\n",
       "    </tr>\n",
       "    <tr>\n",
       "      <th>3</th>\n",
       "      <td>250</td>\n",
       "      <td>10/1/2015 00:00:15</td>\n",
       "      <td>10/1/2015 00:04:25</td>\n",
       "      <td>336</td>\n",
       "      <td>Sullivan St &amp; Washington Sq</td>\n",
       "      <td>40.730477</td>\n",
       "      <td>-73.999061</td>\n",
       "      <td>223</td>\n",
       "      <td>W 13 St &amp; 7 Ave</td>\n",
       "      <td>40.737815</td>\n",
       "      <td>-73.999947</td>\n",
       "      <td>23966</td>\n",
       "      <td>Subscriber</td>\n",
       "      <td>1984.0</td>\n",
       "      <td>1</td>\n",
       "      <td>10/1/2015</td>\n",
       "    </tr>\n",
       "    <tr>\n",
       "      <th>4</th>\n",
       "      <td>528</td>\n",
       "      <td>10/1/2015 00:00:17</td>\n",
       "      <td>10/1/2015 00:09:05</td>\n",
       "      <td>3107</td>\n",
       "      <td>Bedford Ave &amp; Nassau Ave</td>\n",
       "      <td>40.723117</td>\n",
       "      <td>-73.952123</td>\n",
       "      <td>539</td>\n",
       "      <td>Metropolitan Ave &amp; Bedford Ave</td>\n",
       "      <td>40.715348</td>\n",
       "      <td>-73.960241</td>\n",
       "      <td>16246</td>\n",
       "      <td>Customer</td>\n",
       "      <td>NaN</td>\n",
       "      <td>0</td>\n",
       "      <td>10/1/2015</td>\n",
       "    </tr>\n",
       "  </tbody>\n",
       "</table>\n",
       "</div>"
      ],
      "text/plain": [
       "   tripduration           starttime            stoptime  start station id  \\\n",
       "0           171  10/1/2015 00:00:02  10/1/2015 00:02:54               388   \n",
       "1           593  10/1/2015 00:00:02  10/1/2015 00:09:55               518   \n",
       "2           233  10/1/2015 00:00:11  10/1/2015 00:04:05               447   \n",
       "3           250  10/1/2015 00:00:15  10/1/2015 00:04:25               336   \n",
       "4           528  10/1/2015 00:00:17  10/1/2015 00:09:05              3107   \n",
       "\n",
       "            start station name  start station latitude  \\\n",
       "0             W 26 St & 10 Ave               40.749718   \n",
       "1              E 39 St & 2 Ave               40.747804   \n",
       "2              8 Ave & W 52 St               40.763707   \n",
       "3  Sullivan St & Washington Sq               40.730477   \n",
       "4     Bedford Ave & Nassau Ave               40.723117   \n",
       "\n",
       "   start station longitude  end station id                end station name  \\\n",
       "0               -74.002950             494                 W 26 St & 8 Ave   \n",
       "1               -73.973442             438             St Marks Pl & 1 Ave   \n",
       "2               -73.985162             447                 8 Ave & W 52 St   \n",
       "3               -73.999061             223                 W 13 St & 7 Ave   \n",
       "4               -73.952123             539  Metropolitan Ave & Bedford Ave   \n",
       "\n",
       "   end station latitude  end station longitude  bikeid    usertype  \\\n",
       "0             40.747348             -73.997236   24302  Subscriber   \n",
       "1             40.727791             -73.985649   19904  Subscriber   \n",
       "2             40.763707             -73.985162   17797  Subscriber   \n",
       "3             40.737815             -73.999947   23966  Subscriber   \n",
       "4             40.715348             -73.960241   16246    Customer   \n",
       "\n",
       "   birth year  gender       date  \n",
       "0      1973.0       1  10/1/2015  \n",
       "1      1990.0       1  10/1/2015  \n",
       "2      1984.0       1  10/1/2015  \n",
       "3      1984.0       1  10/1/2015  \n",
       "4         NaN       0  10/1/2015  "
      ]
     },
     "execution_count": 44,
     "metadata": {},
     "output_type": "execute_result"
    }
   ],
   "source": [
    "print(\"Sample of the data:\")\n",
    "file.head()"
   ]
  },
  {
   "cell_type": "code",
   "execution_count": null,
   "metadata": {
    "collapsed": true
   },
   "outputs": [],
   "source": []
  },
  {
   "cell_type": "markdown",
   "metadata": {},
   "source": [
    "##### The Potential Solution\n",
    "In order to help convert customers to subscribers sales persons will be posted at select starting stations to discuss the different subscription options with customers.  We believe that having a conversation about their riding habits will increase the number of subscribers and improve the percentage of overall riders who are subscribers. \n"
   ]
  },
  {
   "cell_type": "markdown",
   "metadata": {},
   "source": [
    "##### The Method of Testing the Solution\n",
    "In order to perform this test two medium volume stations with below 50% of their riders being subscribers will have sales people posted at the kiosk interacting with customers.  Two similar sized stations will also be selected as the control. Riders may return their bikes to their original station, or a different one.  It will be important to focus on interacting with those that are about to start their rides, and not those that are return.  The sales person will be provided an outline of talking points to review with customers their riding habits and determine if they would potentially benefit from becoming a subscriber.  Due to seasonality where the riding volume decreases during the colder months of November to February the primary riding season is April to October, with peak beginning in June.  \n"
   ]
  },
  {
   "cell_type": "code",
   "execution_count": 33,
   "metadata": {},
   "outputs": [
    {
     "data": {
      "image/png": "[encoded data removed]",
      "text/plain": [
       "<matplotlib.figure.Figure at 0x1c32a005978>"
      ]
     },
     "metadata": {},
     "output_type": "display_data"
    }
   ],
   "source": [
    "year_1 = final_date_data.loc[final_date_data[\"12_month\"] == \"Group 1\"]\n",
    "year_1 = year_1.sort_values(\"month\")\n",
    "year_2 = final_date_data.loc[final_date_data[\"12_month\"] == \"Group 2\"]\n",
    "year_2 = year_2.sort_values(\"month\")\n",
    "\n",
    "datex=year_1.month\n",
    "ax=plt.subplot()\n",
    "year_1_data =year_1.trip_count\n",
    "year_2_data =year_2.trip_count\n",
    "plt.plot(datex,year_1_data)\n",
    "plt.plot(datex,year_2_data)\n",
    "plt.xticks(rotation=90)\n",
    "#plt.figure(figsize=(10,10))\n",
    "groups = [\"Oct 15 - Sept 16\", \"Oct 16 - Sept 17\"]\n",
    "months_leg = [\"Jan\", \"Feb\", \"Mar\", \"Apr\", \"May\", \"Jun\", \"Jul\", \"Aug\", \"Sep\", \"Oct\",\"Nov\", \"Dec\"]\n",
    "ax.set_xticklabels(months_leg)\n",
    "plt.legend(groups)\n",
    "plt.title(\"Number of Trips by Month for 2 Years\")\n",
    "plt.xlabel(\"Month\")\n",
    "plt.ylabel(\"Number of Trips\")\n",
    "#Legend and labels, month number to month\n",
    "plt.show()\n"
   ]
  },
  {
   "cell_type": "markdown",
   "metadata": {},
   "source": [
    "The test will be performed from the beginning of the riding season in April to July, a period of four months.  We will focus on this period as the best impression of value can be conveyed to the customers while they still have several months of the riding season left.  While October has had the peak number of riders the last two years, it will be difficult to sell an annual pass to a customer just before winter begins and ridership declines dramatically, even if they are then able to use the Subscription the next year. "
   ]
  },
  {
   "cell_type": "markdown",
   "metadata": {},
   "source": [
    "We will monitor the change in Subscriber percent between our two test groups, comparing at the end of the 6 month period.  If the Subscriber percent has increased 50% faster for the test group than the control group, we can conclude that using sales people at stations will materially improve the Subscriber percent at below average stations.  We will require such a high bar due to the labor costs related with using people as opposed to just the standard kiosk. Some other metrics we will monitor include number of trips per station.  It will be interesting to see if having an employee will impact overall usage of a station, and not just the mix of Customers and Subscribers.  "
   ]
  },
  {
   "cell_type": "code",
   "execution_count": 1,
   "metadata": {
    "collapsed": true
   },
   "outputs": [],
   "source": [
    "import numpy as np\n",
    "import pandas as pd\n",
    "import matplotlib.pyplot as plt\n",
    "import seaborn as sns\n",
    "from IPython.display import HTML\n",
    "%matplotlib inline"
   ]
  },
  {
   "cell_type": "code",
   "execution_count": 34,
   "metadata": {},
   "outputs": [
    {
     "data": {
      "text/html": [
       "<script>\n",
       "code_show=true; \n",
       "function code_toggle() {\n",
       " if (code_show){\n",
       " $('div.input').hide();\n",
       " } else {\n",
       " $('div.input').show();\n",
       " }\n",
       " code_show = !code_show\n",
       "} \n",
       "$( document ).ready(code_toggle);\n",
       "</script>\n",
       "The raw code for this IPython notebook is by default hidden for easier reading.\n",
       "To toggle on/off the raw code, click <a href=\"javascript:code_toggle()\">here</a>."
      ],
      "text/plain": [
       "<IPython.core.display.HTML object>"
      ]
     },
     "execution_count": 34,
     "metadata": {},
     "output_type": "execute_result"
    }
   ],
   "source": [
    "HTML('''<script>\n",
    "code_show=true; \n",
    "function code_toggle() {\n",
    " if (code_show){\n",
    " $('div.input').hide();\n",
    " } else {\n",
    " $('div.input').show();\n",
    " }\n",
    " code_show = !code_show\n",
    "} \n",
    "$( document ).ready(code_toggle);\n",
    "</script>\n",
    "The raw code for this IPython notebook is by default hidden for easier reading.\n",
    "To toggle on/off the raw code, click <a href=\"javascript:code_toggle()\">here</a>.''')"
   ]
  },
  {
   "cell_type": "code",
   "execution_count": 9,
   "metadata": {
    "collapsed": true
   },
   "outputs": [],
   "source": [
    "#Bring in Data Files\n",
    "a1=  pd.read_csv(\"201510-citibike-tripdata.csv\")\n",
    "a2=  pd.read_csv(\"201511-citibike-tripdata.csv\")\n",
    "a3=  pd.read_csv(\"201512-citibike-tripdata.csv\")\n",
    "a4=  pd.read_csv(\"201601-citibike-tripdata.csv\")\n",
    "a5=  pd.read_csv(\"201602-citibike-tripdata.csv\")\n",
    "a6=  pd.read_csv(\"201603-citibike-tripdata.csv\")\n",
    "a7=  pd.read_csv(\"201604-citibike-tripdata.csv\")\n",
    "a8=  pd.read_csv(\"201605-citibike-tripdata.csv\")\n",
    "a9=  pd.read_csv(\"201606-citibike-tripdata.csv\")\n",
    "a10= pd.read_csv(\"201607-citibike-tripdata.csv\")\n",
    "a11= pd.read_csv(\"201608-citibike-tripdata.csv\")\n",
    "a12= pd.read_csv(\"201609-citibike-tripdata.csv\")\n",
    "a13= pd.read_csv(\"201610-citibike-tripdata.csv\")\n",
    "a14= pd.read_csv(\"201611-citibike-tripdata.csv\")\n",
    "a15= pd.read_csv(\"201612-citibike-tripdata.csv\")\n",
    "a16= pd.read_csv(\"201701-citibike-tripdata.csv\")\n",
    "a17= pd.read_csv(\"201702-citibike-tripdata.csv\")\n",
    "a18= pd.read_csv(\"201703-citibike-tripdata.csv\")\n",
    "a19= pd.read_csv(\"201704-citibike-tripdata.csv\")\n",
    "a20= pd.read_csv(\"201705-citibike-tripdata.csv\")\n",
    "a21= pd.read_csv(\"201706-citibike-tripdata.csv\")\n",
    "a22= pd.read_csv(\"201707-citibike-tripdata.csv\")\n",
    "a23= pd.read_csv(\"201708-citibike-tripdata.csv\")\n",
    "a24= pd.read_csv(\"201709-citibike-tripdata.csv\")\n",
    "\n",
    "\n"
   ]
  },
  {
   "cell_type": "code",
   "execution_count": 10,
   "metadata": {
    "collapsed": true
   },
   "outputs": [],
   "source": [
    "#Make all column headers the same -- There are slight formatting differences\n",
    "a1t = a1.rename(columns={\"Trip Duration\":\"tripduration\",\"Start Time\":\"starttime\",\"Stop Time\":\"stoptime\",\"Start Station ID\":\"start station id\",\"Start Station Name\":\"start station name\",\"Start Station Latitude\":\"start station latitude\",\"Start Station Longitude\":\"start station longitude\",\"End Station ID\":\"end station id\",\"End Station Name\":\"end station name\",\"End Station Latitude\":\"end station latitude\",\"End Station Longitude\":\"end station longitude\",\"Bike ID\":\"bikeid\",\"User Type\":\"usertype\",\"Birth Year\":\"birth year\",\"Gender\":\"gender\"})\n",
    "a2t = a2.rename(columns={\"Trip Duration\":\"tripduration\",\"Start Time\":\"starttime\",\"Stop Time\":\"stoptime\",\"Start Station ID\":\"start station id\",\"Start Station Name\":\"start station name\",\"Start Station Latitude\":\"start station latitude\",\"Start Station Longitude\":\"start station longitude\",\"End Station ID\":\"end station id\",\"End Station Name\":\"end station name\",\"End Station Latitude\":\"end station latitude\",\"End Station Longitude\":\"end station longitude\",\"Bike ID\":\"bikeid\",\"User Type\":\"usertype\",\"Birth Year\":\"birth year\",\"Gender\":\"gender\"})\n",
    "a3t = a3.rename(columns={\"Trip Duration\":\"tripduration\",\"Start Time\":\"starttime\",\"Stop Time\":\"stoptime\",\"Start Station ID\":\"start station id\",\"Start Station Name\":\"start station name\",\"Start Station Latitude\":\"start station latitude\",\"Start Station Longitude\":\"start station longitude\",\"End Station ID\":\"end station id\",\"End Station Name\":\"end station name\",\"End Station Latitude\":\"end station latitude\",\"End Station Longitude\":\"end station longitude\",\"Bike ID\":\"bikeid\",\"User Type\":\"usertype\",\"Birth Year\":\"birth year\",\"Gender\":\"gender\"})\n",
    "a4t=  a4.rename(columns={\"Trip Duration\":\"tripduration\",\"Start Time\":\"starttime\",\"Stop Time\":\"stoptime\",\"Start Station ID\":\"start station id\",\"Start Station Name\":\"start station name\",\"Start Station Latitude\":\"start station latitude\",\"Start Station Longitude\":\"start station longitude\",\"End Station ID\":\"end station id\",\"End Station Name\":\"end station name\",\"End Station Latitude\":\"end station latitude\",\"End Station Longitude\":\"end station longitude\",\"Bike ID\":\"bikeid\",\"User Type\":\"usertype\",\"Birth Year\":\"birth year\",\"Gender\":\"gender\"})\n",
    "a5t=  a5.rename(columns={\"Trip Duration\":\"tripduration\",\"Start Time\":\"starttime\",\"Stop Time\":\"stoptime\",\"Start Station ID\":\"start station id\",\"Start Station Name\":\"start station name\",\"Start Station Latitude\":\"start station latitude\",\"Start Station Longitude\":\"start station longitude\",\"End Station ID\":\"end station id\",\"End Station Name\":\"end station name\",\"End Station Latitude\":\"end station latitude\",\"End Station Longitude\":\"end station longitude\",\"Bike ID\":\"bikeid\",\"User Type\":\"usertype\",\"Birth Year\":\"birth year\",\"Gender\":\"gender\"})\n",
    "a6t=  a6.rename(columns={\"Trip Duration\":\"tripduration\",\"Start Time\":\"starttime\",\"Stop Time\":\"stoptime\",\"Start Station ID\":\"start station id\",\"Start Station Name\":\"start station name\",\"Start Station Latitude\":\"start station latitude\",\"Start Station Longitude\":\"start station longitude\",\"End Station ID\":\"end station id\",\"End Station Name\":\"end station name\",\"End Station Latitude\":\"end station latitude\",\"End Station Longitude\":\"end station longitude\",\"Bike ID\":\"bikeid\",\"User Type\":\"usertype\",\"Birth Year\":\"birth year\",\"Gender\":\"gender\"})\n",
    "a7t=  a7.rename(columns={\"Trip Duration\":\"tripduration\",\"Start Time\":\"starttime\",\"Stop Time\":\"stoptime\",\"Start Station ID\":\"start station id\",\"Start Station Name\":\"start station name\",\"Start Station Latitude\":\"start station latitude\",\"Start Station Longitude\":\"start station longitude\",\"End Station ID\":\"end station id\",\"End Station Name\":\"end station name\",\"End Station Latitude\":\"end station latitude\",\"End Station Longitude\":\"end station longitude\",\"Bike ID\":\"bikeid\",\"User Type\":\"usertype\",\"Birth Year\":\"birth year\",\"Gender\":\"gender\"})\n",
    "a8t=  a8.rename(columns={\"Trip Duration\":\"tripduration\",\"Start Time\":\"starttime\",\"Stop Time\":\"stoptime\",\"Start Station ID\":\"start station id\",\"Start Station Name\":\"start station name\",\"Start Station Latitude\":\"start station latitude\",\"Start Station Longitude\":\"start station longitude\",\"End Station ID\":\"end station id\",\"End Station Name\":\"end station name\",\"End Station Latitude\":\"end station latitude\",\"End Station Longitude\":\"end station longitude\",\"Bike ID\":\"bikeid\",\"User Type\":\"usertype\",\"Birth Year\":\"birth year\",\"Gender\":\"gender\"})\n",
    "a9t=  a9.rename(columns={\"Trip Duration\":\"tripduration\",\"Start Time\":\"starttime\",\"Stop Time\":\"stoptime\",\"Start Station ID\":\"start station id\",\"Start Station Name\":\"start station name\",\"Start Station Latitude\":\"start station latitude\",\"Start Station Longitude\":\"start station longitude\",\"End Station ID\":\"end station id\",\"End Station Name\":\"end station name\",\"End Station Latitude\":\"end station latitude\",\"End Station Longitude\":\"end station longitude\",\"Bike ID\":\"bikeid\",\"User Type\":\"usertype\",\"Birth Year\":\"birth year\",\"Gender\":\"gender\"})\n",
    "a10t= a10.rename(columns={\"Trip Duration\":\"tripduration\",\"Start Time\":\"starttime\",\"Stop Time\":\"stoptime\",\"Start Station ID\":\"start station id\",\"Start Station Name\":\"start station name\",\"Start Station Latitude\":\"start station latitude\",\"Start Station Longitude\":\"start station longitude\",\"End Station ID\":\"end station id\",\"End Station Name\":\"end station name\",\"End Station Latitude\":\"end station latitude\",\"End Station Longitude\":\"end station longitude\",\"Bike ID\":\"bikeid\",\"User Type\":\"usertype\",\"Birth Year\":\"birth year\",\"Gender\":\"gender\"})\n",
    "a11t= a11.rename(columns={\"Trip Duration\":\"tripduration\",\"Start Time\":\"starttime\",\"Stop Time\":\"stoptime\",\"Start Station ID\":\"start station id\",\"Start Station Name\":\"start station name\",\"Start Station Latitude\":\"start station latitude\",\"Start Station Longitude\":\"start station longitude\",\"End Station ID\":\"end station id\",\"End Station Name\":\"end station name\",\"End Station Latitude\":\"end station latitude\",\"End Station Longitude\":\"end station longitude\",\"Bike ID\":\"bikeid\",\"User Type\":\"usertype\",\"Birth Year\":\"birth year\",\"Gender\":\"gender\"})\n",
    "a12t= a12.rename(columns={\"Trip Duration\":\"tripduration\",\"Start Time\":\"starttime\",\"Stop Time\":\"stoptime\",\"Start Station ID\":\"start station id\",\"Start Station Name\":\"start station name\",\"Start Station Latitude\":\"start station latitude\",\"Start Station Longitude\":\"start station longitude\",\"End Station ID\":\"end station id\",\"End Station Name\":\"end station name\",\"End Station Latitude\":\"end station latitude\",\"End Station Longitude\":\"end station longitude\",\"Bike ID\":\"bikeid\",\"User Type\":\"usertype\",\"Birth Year\":\"birth year\",\"Gender\":\"gender\"})\n",
    "a13t= a13.rename(columns={\"Trip Duration\":\"tripduration\",\"Start Time\":\"starttime\",\"Stop Time\":\"stoptime\",\"Start Station ID\":\"start station id\",\"Start Station Name\":\"start station name\",\"Start Station Latitude\":\"start station latitude\",\"Start Station Longitude\":\"start station longitude\",\"End Station ID\":\"end station id\",\"End Station Name\":\"end station name\",\"End Station Latitude\":\"end station latitude\",\"End Station Longitude\":\"end station longitude\",\"Bike ID\":\"bikeid\",\"User Type\":\"usertype\",\"Birth Year\":\"birth year\",\"Gender\":\"gender\"})\n",
    "a14t= a14.rename(columns={\"Trip Duration\":\"tripduration\",\"Start Time\":\"starttime\",\"Stop Time\":\"stoptime\",\"Start Station ID\":\"start station id\",\"Start Station Name\":\"start station name\",\"Start Station Latitude\":\"start station latitude\",\"Start Station Longitude\":\"start station longitude\",\"End Station ID\":\"end station id\",\"End Station Name\":\"end station name\",\"End Station Latitude\":\"end station latitude\",\"End Station Longitude\":\"end station longitude\",\"Bike ID\":\"bikeid\",\"User Type\":\"usertype\",\"Birth Year\":\"birth year\",\"Gender\":\"gender\"})\n",
    "a15t= a15.rename(columns={\"Trip Duration\":\"tripduration\",\"Start Time\":\"starttime\",\"Stop Time\":\"stoptime\",\"Start Station ID\":\"start station id\",\"Start Station Name\":\"start station name\",\"Start Station Latitude\":\"start station latitude\",\"Start Station Longitude\":\"start station longitude\",\"End Station ID\":\"end station id\",\"End Station Name\":\"end station name\",\"End Station Latitude\":\"end station latitude\",\"End Station Longitude\":\"end station longitude\",\"Bike ID\":\"bikeid\",\"User Type\":\"usertype\",\"Birth Year\":\"birth year\",\"Gender\":\"gender\"})\n",
    "a16t= a16.rename(columns={\"Trip Duration\":\"tripduration\",\"Start Time\":\"starttime\",\"Stop Time\":\"stoptime\",\"Start Station ID\":\"start station id\",\"Start Station Name\":\"start station name\",\"Start Station Latitude\":\"start station latitude\",\"Start Station Longitude\":\"start station longitude\",\"End Station ID\":\"end station id\",\"End Station Name\":\"end station name\",\"End Station Latitude\":\"end station latitude\",\"End Station Longitude\":\"end station longitude\",\"Bike ID\":\"bikeid\",\"User Type\":\"usertype\",\"Birth Year\":\"birth year\",\"Gender\":\"gender\"})\n",
    "a17t= a17.rename(columns={\"Trip Duration\":\"tripduration\",\"Start Time\":\"starttime\",\"Stop Time\":\"stoptime\",\"Start Station ID\":\"start station id\",\"Start Station Name\":\"start station name\",\"Start Station Latitude\":\"start station latitude\",\"Start Station Longitude\":\"start station longitude\",\"End Station ID\":\"end station id\",\"End Station Name\":\"end station name\",\"End Station Latitude\":\"end station latitude\",\"End Station Longitude\":\"end station longitude\",\"Bike ID\":\"bikeid\",\"User Type\":\"usertype\",\"Birth Year\":\"birth year\",\"Gender\":\"gender\"})\n",
    "a18t= a18.rename(columns={\"Trip Duration\":\"tripduration\",\"Start Time\":\"starttime\",\"Stop Time\":\"stoptime\",\"Start Station ID\":\"start station id\",\"Start Station Name\":\"start station name\",\"Start Station Latitude\":\"start station latitude\",\"Start Station Longitude\":\"start station longitude\",\"End Station ID\":\"end station id\",\"End Station Name\":\"end station name\",\"End Station Latitude\":\"end station latitude\",\"End Station Longitude\":\"end station longitude\",\"Bike ID\":\"bikeid\",\"User Type\":\"usertype\",\"Birth Year\":\"birth year\",\"Gender\":\"gender\"})\n",
    "a19t= a19.rename(columns={\"Trip Duration\":\"tripduration\",\"Start Time\":\"starttime\",\"Stop Time\":\"stoptime\",\"Start Station ID\":\"start station id\",\"Start Station Name\":\"start station name\",\"Start Station Latitude\":\"start station latitude\",\"Start Station Longitude\":\"start station longitude\",\"End Station ID\":\"end station id\",\"End Station Name\":\"end station name\",\"End Station Latitude\":\"end station latitude\",\"End Station Longitude\":\"end station longitude\",\"Bike ID\":\"bikeid\",\"User Type\":\"usertype\",\"Birth Year\":\"birth year\",\"Gender\":\"gender\"})\n",
    "a20t= a20.rename(columns={\"Trip Duration\":\"tripduration\",\"Start Time\":\"starttime\",\"Stop Time\":\"stoptime\",\"Start Station ID\":\"start station id\",\"Start Station Name\":\"start station name\",\"Start Station Latitude\":\"start station latitude\",\"Start Station Longitude\":\"start station longitude\",\"End Station ID\":\"end station id\",\"End Station Name\":\"end station name\",\"End Station Latitude\":\"end station latitude\",\"End Station Longitude\":\"end station longitude\",\"Bike ID\":\"bikeid\",\"User Type\":\"usertype\",\"Birth Year\":\"birth year\",\"Gender\":\"gender\"})\n",
    "a21t= a21.rename(columns={\"Trip Duration\":\"tripduration\",\"Start Time\":\"starttime\",\"Stop Time\":\"stoptime\",\"Start Station ID\":\"start station id\",\"Start Station Name\":\"start station name\",\"Start Station Latitude\":\"start station latitude\",\"Start Station Longitude\":\"start station longitude\",\"End Station ID\":\"end station id\",\"End Station Name\":\"end station name\",\"End Station Latitude\":\"end station latitude\",\"End Station Longitude\":\"end station longitude\",\"Bike ID\":\"bikeid\",\"User Type\":\"usertype\",\"Birth Year\":\"birth year\",\"Gender\":\"gender\"})\n",
    "a22t= a22.rename(columns={\"Trip Duration\":\"tripduration\",\"Start Time\":\"starttime\",\"Stop Time\":\"stoptime\",\"Start Station ID\":\"start station id\",\"Start Station Name\":\"start station name\",\"Start Station Latitude\":\"start station latitude\",\"Start Station Longitude\":\"start station longitude\",\"End Station ID\":\"end station id\",\"End Station Name\":\"end station name\",\"End Station Latitude\":\"end station latitude\",\"End Station Longitude\":\"end station longitude\",\"Bike ID\":\"bikeid\",\"User Type\":\"usertype\",\"Birth Year\":\"birth year\",\"Gender\":\"gender\"})\n",
    "a23t= a23.rename(columns={\"Trip Duration\":\"tripduration\",\"Start Time\":\"starttime\",\"Stop Time\":\"stoptime\",\"Start Station ID\":\"start station id\",\"Start Station Name\":\"start station name\",\"Start Station Latitude\":\"start station latitude\",\"Start Station Longitude\":\"start station longitude\",\"End Station ID\":\"end station id\",\"End Station Name\":\"end station name\",\"End Station Latitude\":\"end station latitude\",\"End Station Longitude\":\"end station longitude\",\"Bike ID\":\"bikeid\",\"User Type\":\"usertype\",\"Birth Year\":\"birth year\",\"Gender\":\"gender\"})\n",
    "a24t= a24.rename(columns={\"Trip Duration\":\"tripduration\",\"Start Time\":\"starttime\",\"Stop Time\":\"stoptime\",\"Start Station ID\":\"start station id\",\"Start Station Name\":\"start station name\",\"Start Station Latitude\":\"start station latitude\",\"Start Station Longitude\":\"start station longitude\",\"End Station ID\":\"end station id\",\"End Station Name\":\"end station name\",\"End Station Latitude\":\"end station latitude\",\"End Station Longitude\":\"end station longitude\",\"Bike ID\":\"bikeid\",\"User Type\":\"usertype\",\"Birth Year\":\"birth year\",\"Gender\":\"gender\"})\n"
   ]
  },
  {
   "cell_type": "code",
   "execution_count": 11,
   "metadata": {
    "collapsed": true
   },
   "outputs": [],
   "source": [
    "#Merge tables\n",
    "raw_data = pd.concat([a1t,a2t,a3t,a4t,a5t,a6t,a7t,a8t,a9t,a10t,a11t,a12t,a13t,a14t,a15t,a16t,a17t,a18t,a19t,a20t,a21t,a22t,a23t,a24t])"
   ]
  },
  {
   "cell_type": "code",
   "execution_count": 14,
   "metadata": {
    "collapsed": true
   },
   "outputs": [
    {
     "name": "stdout",
     "output_type": "stream",
     "text": [
      "<class 'pandas.core.frame.DataFrame'>\n",
      "Int64Index: 29095751 entries, 0 to 1878097\n",
      "Data columns (total 15 columns):\n",
      "tripduration               int64\n",
      "starttime                  object\n",
      "stoptime                   object\n",
      "start station id           int64\n",
      "start station name         object\n",
      "start station latitude     float64\n",
      "start station longitude    float64\n",
      "end station id             int64\n",
      "end station name           object\n",
      "end station latitude       float64\n",
      "end station longitude      float64\n",
      "bikeid                     int64\n",
      "usertype                   object\n",
      "birth year                 float64\n",
      "gender                     int64\n",
      "dtypes: float64(5), int64(5), object(5)\n",
      "memory usage: 3.5+ GB\n"
     ]
    }
   ],
   "source": [
    "#raw_data.info()"
   ]
  },
  {
   "cell_type": "code",
   "execution_count": 15,
   "metadata": {
    "collapsed": true
   },
   "outputs": [
    {
     "data": {
      "text/html": [
       "<div>\n",
       "<style>\n",
       "    .dataframe thead tr:only-child th {\n",
       "        text-align: right;\n",
       "    }\n",
       "\n",
       "    .dataframe thead th {\n",
       "        text-align: left;\n",
       "    }\n",
       "\n",
       "    .dataframe tbody tr th {\n",
       "        vertical-align: top;\n",
       "    }\n",
       "</style>\n",
       "<table border=\"1\" class=\"dataframe\">\n",
       "  <thead>\n",
       "    <tr style=\"text-align: right;\">\n",
       "      <th></th>\n",
       "      <th>tripduration</th>\n",
       "      <th>start station id</th>\n",
       "      <th>start station latitude</th>\n",
       "      <th>start station longitude</th>\n",
       "      <th>end station id</th>\n",
       "      <th>end station latitude</th>\n",
       "      <th>end station longitude</th>\n",
       "      <th>bikeid</th>\n",
       "      <th>birth year</th>\n",
       "      <th>gender</th>\n",
       "    </tr>\n",
       "  </thead>\n",
       "  <tbody>\n",
       "    <tr>\n",
       "      <th>count</th>\n",
       "      <td>2.909575e+07</td>\n",
       "      <td>2.909575e+07</td>\n",
       "      <td>2.909575e+07</td>\n",
       "      <td>2.909575e+07</td>\n",
       "      <td>2.909575e+07</td>\n",
       "      <td>2.909575e+07</td>\n",
       "      <td>2.909575e+07</td>\n",
       "      <td>2.909575e+07</td>\n",
       "      <td>2.588795e+07</td>\n",
       "      <td>2.909575e+07</td>\n",
       "    </tr>\n",
       "    <tr>\n",
       "      <th>mean</th>\n",
       "      <td>9.860518e+02</td>\n",
       "      <td>1.152078e+03</td>\n",
       "      <td>4.073715e+01</td>\n",
       "      <td>-7.398584e+01</td>\n",
       "      <td>1.139828e+03</td>\n",
       "      <td>4.073663e+01</td>\n",
       "      <td>-7.398565e+01</td>\n",
       "      <td>2.185729e+04</td>\n",
       "      <td>1.978094e+03</td>\n",
       "      <td>1.106561e+00</td>\n",
       "    </tr>\n",
       "    <tr>\n",
       "      <th>std</th>\n",
       "      <td>1.204546e+04</td>\n",
       "      <td>1.242171e+03</td>\n",
       "      <td>3.352088e-02</td>\n",
       "      <td>4.217394e-02</td>\n",
       "      <td>1.236128e+03</td>\n",
       "      <td>9.864001e-02</td>\n",
       "      <td>1.737470e-01</td>\n",
       "      <td>4.341229e+03</td>\n",
       "      <td>1.174150e+01</td>\n",
       "      <td>5.670423e-01</td>\n",
       "    </tr>\n",
       "    <tr>\n",
       "      <th>min</th>\n",
       "      <td>6.100000e+01</td>\n",
       "      <td>7.200000e+01</td>\n",
       "      <td>0.000000e+00</td>\n",
       "      <td>-7.403137e+01</td>\n",
       "      <td>7.200000e+01</td>\n",
       "      <td>0.000000e+00</td>\n",
       "      <td>-7.408585e+01</td>\n",
       "      <td>1.452900e+04</td>\n",
       "      <td>1.858000e+03</td>\n",
       "      <td>0.000000e+00</td>\n",
       "    </tr>\n",
       "    <tr>\n",
       "      <th>25%</th>\n",
       "      <td>3.790000e+02</td>\n",
       "      <td>3.470000e+02</td>\n",
       "      <td>4.072020e+01</td>\n",
       "      <td>-7.399725e+01</td>\n",
       "      <td>3.460000e+02</td>\n",
       "      <td>4.071939e+01</td>\n",
       "      <td>-7.399726e+01</td>\n",
       "      <td>1.806800e+04</td>\n",
       "      <td>1.970000e+03</td>\n",
       "      <td>1.000000e+00</td>\n",
       "    </tr>\n",
       "    <tr>\n",
       "      <th>50%</th>\n",
       "      <td>6.300000e+02</td>\n",
       "      <td>4.710000e+02</td>\n",
       "      <td>4.073827e+01</td>\n",
       "      <td>-7.398789e+01</td>\n",
       "      <td>4.690000e+02</td>\n",
       "      <td>4.073782e+01</td>\n",
       "      <td>-7.398808e+01</td>\n",
       "      <td>2.166200e+04</td>\n",
       "      <td>1.981000e+03</td>\n",
       "      <td>1.000000e+00</td>\n",
       "    </tr>\n",
       "    <tr>\n",
       "      <th>75%</th>\n",
       "      <td>1.079000e+03</td>\n",
       "      <td>3.002000e+03</td>\n",
       "      <td>4.075510e+01</td>\n",
       "      <td>-7.397704e+01</td>\n",
       "      <td>2.023000e+03</td>\n",
       "      <td>4.075467e+01</td>\n",
       "      <td>-7.397711e+01</td>\n",
       "      <td>2.554000e+04</td>\n",
       "      <td>1.987000e+03</td>\n",
       "      <td>1.000000e+00</td>\n",
       "    </tr>\n",
       "    <tr>\n",
       "      <th>max</th>\n",
       "      <td>9.735948e+06</td>\n",
       "      <td>3.637000e+03</td>\n",
       "      <td>4.550636e+01</td>\n",
       "      <td>0.000000e+00</td>\n",
       "      <td>3.637000e+03</td>\n",
       "      <td>4.550636e+01</td>\n",
       "      <td>0.000000e+00</td>\n",
       "      <td>3.197900e+04</td>\n",
       "      <td>2.001000e+03</td>\n",
       "      <td>2.000000e+00</td>\n",
       "    </tr>\n",
       "  </tbody>\n",
       "</table>\n",
       "</div>"
      ],
      "text/plain": [
       "       tripduration  start station id  start station latitude  \\\n",
       "count  2.909575e+07      2.909575e+07            2.909575e+07   \n",
       "mean   9.860518e+02      1.152078e+03            4.073715e+01   \n",
       "std    1.204546e+04      1.242171e+03            3.352088e-02   \n",
       "min    6.100000e+01      7.200000e+01            0.000000e+00   \n",
       "25%    3.790000e+02      3.470000e+02            4.072020e+01   \n",
       "50%    6.300000e+02      4.710000e+02            4.073827e+01   \n",
       "75%    1.079000e+03      3.002000e+03            4.075510e+01   \n",
       "max    9.735948e+06      3.637000e+03            4.550636e+01   \n",
       "\n",
       "       start station longitude  end station id  end station latitude  \\\n",
       "count             2.909575e+07    2.909575e+07          2.909575e+07   \n",
       "mean             -7.398584e+01    1.139828e+03          4.073663e+01   \n",
       "std               4.217394e-02    1.236128e+03          9.864001e-02   \n",
       "min              -7.403137e+01    7.200000e+01          0.000000e+00   \n",
       "25%              -7.399725e+01    3.460000e+02          4.071939e+01   \n",
       "50%              -7.398789e+01    4.690000e+02          4.073782e+01   \n",
       "75%              -7.397704e+01    2.023000e+03          4.075467e+01   \n",
       "max               0.000000e+00    3.637000e+03          4.550636e+01   \n",
       "\n",
       "       end station longitude        bikeid    birth year        gender  \n",
       "count           2.909575e+07  2.909575e+07  2.588795e+07  2.909575e+07  \n",
       "mean           -7.398565e+01  2.185729e+04  1.978094e+03  1.106561e+00  \n",
       "std             1.737470e-01  4.341229e+03  1.174150e+01  5.670423e-01  \n",
       "min            -7.408585e+01  1.452900e+04  1.858000e+03  0.000000e+00  \n",
       "25%            -7.399726e+01  1.806800e+04  1.970000e+03  1.000000e+00  \n",
       "50%            -7.398808e+01  2.166200e+04  1.981000e+03  1.000000e+00  \n",
       "75%            -7.397711e+01  2.554000e+04  1.987000e+03  1.000000e+00  \n",
       "max             0.000000e+00  3.197900e+04  2.001000e+03  2.000000e+00  "
      ]
     },
     "execution_count": 15,
     "metadata": {},
     "output_type": "execute_result"
    }
   ],
   "source": [
    "#raw_data.describe()"
   ]
  },
  {
   "cell_type": "code",
   "execution_count": 16,
   "metadata": {
    "collapsed": true
   },
   "outputs": [],
   "source": [
    "#Creating working copy\n",
    "file = raw_data"
   ]
  },
  {
   "cell_type": "code",
   "execution_count": 17,
   "metadata": {
    "collapsed": true
   },
   "outputs": [
    {
     "name": "stdout",
     "output_type": "stream",
     "text": [
      "<class 'pandas.core.frame.DataFrame'>\n",
      "Int64Index: 29095751 entries, 0 to 1878097\n",
      "Data columns (total 15 columns):\n",
      "tripduration               int64\n",
      "starttime                  object\n",
      "stoptime                   object\n",
      "start station id           int64\n",
      "start station name         object\n",
      "start station latitude     float64\n",
      "start station longitude    float64\n",
      "end station id             int64\n",
      "end station name           object\n",
      "end station latitude       float64\n",
      "end station longitude      float64\n",
      "bikeid                     int64\n",
      "usertype                   object\n",
      "birth year                 float64\n",
      "gender                     int64\n",
      "dtypes: float64(5), int64(5), object(5)\n",
      "memory usage: 3.5+ GB\n"
     ]
    }
   ],
   "source": [
    "#file.info()"
   ]
  },
  {
   "cell_type": "code",
   "execution_count": 19,
   "metadata": {
    "collapsed": true
   },
   "outputs": [
    {
     "data": {
      "text/html": [
       "<div>\n",
       "<style>\n",
       "    .dataframe thead tr:only-child th {\n",
       "        text-align: right;\n",
       "    }\n",
       "\n",
       "    .dataframe thead th {\n",
       "        text-align: left;\n",
       "    }\n",
       "\n",
       "    .dataframe tbody tr th {\n",
       "        vertical-align: top;\n",
       "    }\n",
       "</style>\n",
       "<table border=\"1\" class=\"dataframe\">\n",
       "  <thead>\n",
       "    <tr style=\"text-align: right;\">\n",
       "      <th></th>\n",
       "      <th>date</th>\n",
       "      <th>trip_count</th>\n",
       "    </tr>\n",
       "  </thead>\n",
       "  <tbody>\n",
       "    <tr>\n",
       "      <th>0</th>\n",
       "      <td>1/1/2016</td>\n",
       "      <td>11009</td>\n",
       "    </tr>\n",
       "    <tr>\n",
       "      <th>1</th>\n",
       "      <td>1/10/2016</td>\n",
       "      <td>14275</td>\n",
       "    </tr>\n",
       "    <tr>\n",
       "      <th>2</th>\n",
       "      <td>1/11/2016</td>\n",
       "      <td>22937</td>\n",
       "    </tr>\n",
       "    <tr>\n",
       "      <th>3</th>\n",
       "      <td>1/12/2016</td>\n",
       "      <td>25211</td>\n",
       "    </tr>\n",
       "    <tr>\n",
       "      <th>4</th>\n",
       "      <td>1/13/2016</td>\n",
       "      <td>21133</td>\n",
       "    </tr>\n",
       "  </tbody>\n",
       "</table>\n",
       "</div>"
      ],
      "text/plain": [
       "        date  trip_count\n",
       "0   1/1/2016       11009\n",
       "1  1/10/2016       14275\n",
       "2  1/11/2016       22937\n",
       "3  1/12/2016       25211\n",
       "4  1/13/2016       21133"
      ]
     },
     "execution_count": 19,
     "metadata": {},
     "output_type": "execute_result"
    }
   ],
   "source": [
    "#Add Date Column - Currently date with time\n",
    "file[\"date\"] = file[\"starttime\"].apply(lambda x: x.split()[0])\n",
    "#Group by date with count on trip duration\n",
    "date_data = file.groupby(\"date\").tripduration.count().reset_index()\n",
    "date_data.rename(columns={\"tripduration\":\"trip_count\"},inplace=True)\n",
    "#Rename\n",
    "#date_data.head()"
   ]
  },
  {
   "cell_type": "code",
   "execution_count": 20,
   "metadata": {
    "collapsed": true
   },
   "outputs": [
    {
     "name": "stdout",
     "output_type": "stream",
     "text": [
      "<class 'pandas.core.frame.DataFrame'>\n",
      "RangeIndex: 723 entries, 0 to 722\n",
      "Data columns (total 2 columns):\n",
      "date          723 non-null object\n",
      "trip_count    723 non-null int64\n",
      "dtypes: int64(1), object(1)\n",
      "memory usage: 11.4+ KB\n"
     ]
    }
   ],
   "source": [
    "#date_data.info()"
   ]
  },
  {
   "cell_type": "code",
   "execution_count": 21,
   "metadata": {
    "collapsed": true
   },
   "outputs": [],
   "source": [
    "#Convert date column to date formart\n",
    "date_data[\"date\"] = pd.to_datetime(date_data[\"date\"])\n",
    "#Extract month from date column and add new column month\n",
    "date_data[\"month\"] = date_data[\"date\"].apply(lambda x: x.strftime(\"%m\"))\n",
    "#Extract year from date column and add new column month\n",
    "date_data[\"year\"] = date_data[\"date\"].apply(lambda x: x.strftime(\"%Y\"))\n",
    "# ---- date_data[\"month_year\"] = pd.to_datetime(date_data[\"month_year\"])\n",
    "final_date_data = date_data.groupby([\"year\",\"month\"]).trip_count.sum().reset_index()"
   ]
  },
  {
   "cell_type": "code",
   "execution_count": 42,
   "metadata": {},
   "outputs": [],
   "source": [
    "#date_data.info()"
   ]
  },
  {
   "cell_type": "code",
   "execution_count": 23,
   "metadata": {
    "collapsed": true,
    "scrolled": false
   },
   "outputs": [],
   "source": [
    "#Sort by Date\n",
    "date_data = date_data.sort_values(\"date\")"
   ]
  },
  {
   "cell_type": "code",
   "execution_count": 24,
   "metadata": {
    "collapsed": true
   },
   "outputs": [],
   "source": [
    "#Create new empty column\n",
    "final_date_data[\"12_month\"] = \"\"\n",
    "#Create two 12 month groups for graphing\n",
    "final_date_data.at[final_date_data.index[0:12], \"12_month\"] = \"Group 1\"\n",
    "final_date_data.at[final_date_data.index[12:], \"12_month\"] = \"Group 2\""
   ]
  },
  {
   "cell_type": "code",
   "execution_count": 37,
   "metadata": {
    "scrolled": false
   },
   "outputs": [],
   "source": [
    "year_1 = final_date_data.loc[final_date_data[\"12_month\"] == \"Group 1\"]\n",
    "year_1 = year_1.sort_values(\"month\")\n",
    "year_2 = final_date_data.loc[final_date_data[\"12_month\"] == \"Group 2\"]\n",
    "year_2 = year_2.sort_values(\"month\")\n",
    "\n",
    "datex=year_1.month\n",
    "#ax=plt.subplot()\n",
    "year_1_data =year_1.trip_count\n",
    "year_2_data =year_2.trip_count\n",
    "#plt.plot(datex,year_1_data)\n",
    "#plt.plot(datex,year_2_data)\n",
    "#plt.xticks(rotation=90)\n",
    "#plt.figure(figsize=(10,10))\n",
    "#groups = [\"Oct 15 - Sept 16\", \"Oct 16 - Sept 17\"]\n",
    "#months_leg = [\"Jan\", \"Feb\", \"Mar\", \"Apr\", \"May\", \"Jun\", \"Jul\", \"Aug\", \"Sep\", \"Oct\",\"Nov\", \"Dec\"]\n",
    "#ax.set_xticklabels(months_leg)\n",
    "#plt.legend(groups)\n",
    "#plt.title(\"Number of Trips by Month for 2 Years\")\n",
    "#plt.xlabel(\"Month\")\n",
    "#plt.ylabel(\"Number of Trips\")\n",
    "#Legend and labels, month number to month\n",
    "#plt.show()\n"
   ]
  },
  {
   "cell_type": "code",
   "execution_count": null,
   "metadata": {
    "collapsed": true,
    "scrolled": false
   },
   "outputs": [],
   "source": [
    "#final_date_data.head(24)"
   ]
  },
  {
   "cell_type": "code",
   "execution_count": null,
   "metadata": {
    "collapsed": true
   },
   "outputs": [],
   "source": [
    "#file.head()"
   ]
  },
  {
   "cell_type": "code",
   "execution_count": 40,
   "metadata": {},
   "outputs": [],
   "source": [
    "#Groupby Start Station and User type\n",
    "user_type_data = file.groupby([\"start station name\",\"usertype\"]).tripduration.count().reset_index()\n",
    "#Pivot user type to columns\n",
    "user_pivot= user_type_data.pivot(columns = \"usertype\", index=\"start station name\", values= \"tripduration\").reset_index()\n",
    "# Add perecent subscriber column\n",
    "user_pivot[\"Percent Subscriber\"] = user_pivot[\"Subscriber\"] / (user_pivot[\"Subscriber\"]+ user_pivot[\"Customer\"])\n",
    "#Sort by Subscriber Percent\n",
    "user_pivot = user_pivot.sort_values(by=\"Percent Subscriber\",ascending=True).reset_index()\n",
    "#See top 10 rows of final table\n",
    "#user_pivot.head(10)\n",
    "\n"
   ]
  },
  {
   "cell_type": "code",
   "execution_count": 41,
   "metadata": {
    "scrolled": true
   },
   "outputs": [],
   "source": [
    "#Calculate Mean, Median, Max, Min, Total Mix\n",
    "#print(\"Mean is:\" +str(user_pivot[\"Percent Subscriber\"].mean()))\n",
    "#print(\"Median is:\" +str(user_pivot[\"Percent Subscriber\"].median()))\n",
    "#print(\"Max is: \" + str(user_pivot[\"Percent Subscriber\"].max()))\n",
    "#print(\"Min is: \" + str(user_pivot[\"Percent Subscriber\"].min()))\n",
    "#print(\"Total Subscriber Percent: \" + str((user_pivot.Subscriber.sum())/(user_pivot.Customer.sum() + user_pivot.Subscriber.sum())))"
   ]
  },
  {
   "cell_type": "code",
   "execution_count": 38,
   "metadata": {},
   "outputs": [],
   "source": [
    "#Sep by year to see how changing\n",
    "subscriber = ((user_pivot.Subscriber.sum())/(user_pivot.Customer.sum() + user_pivot.Subscriber.sum()))\n",
    "customer = 1 - subscriber\n",
    "pie_data = [subscriber,customer]\n",
    "#plt.pie(pie_data, autopct=\"%0.01f%%\")\n",
    "#plt.title(\"Subscriber vs Customer Mix\")\n",
    "#pie_legend = [\"Subscribers\",\"Customers\"]\n",
    "#plt.legend(pie_legend)\n",
    "#plt.axis(\"equal\")\n",
    "#plt.show"
   ]
  },
  {
   "cell_type": "code",
   "execution_count": 39,
   "metadata": {
    "scrolled": true
   },
   "outputs": [],
   "source": [
    "#Create Box Plot\n",
    "#box = user_pivot[\"Percent Subscriber\"]\n",
    "#sns.boxplot(box)\n",
    "#plt.title(\"Starting Station Subscriber Percent Box Plot\")\n",
    "#plt.show()\n",
    "\n"
   ]
  }
 ],
 "metadata": {
  "kernelspec": {
   "display_name": "Python 3",
   "language": "python",
   "name": "python3"
  },
  "language_info": {
   "codemirror_mode": {
    "name": "ipython",
    "version": 3
   },
   "file_extension": ".py",
   "mimetype": "text/x-python",
   "name": "python",
   "nbconvert_exporter": "python",
   "pygments_lexer": "ipython3",
   "version": "3.6.3"
  }
 },
 "nbformat": 4,
 "nbformat_minor": 2
}
